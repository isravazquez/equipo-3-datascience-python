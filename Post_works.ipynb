{
  "nbformat": 4,
  "nbformat_minor": 0,
  "metadata": {
    "colab": {
      "name": "Proy-Python.ipynb",
      "provenance": [],
      "collapsed_sections": [
        "uBxvJpnKHgRR",
        "Oi5clxJOa0af",
        "Fq1nJzgobF0z",
        "6-xAyr3Vb5J6",
        "Ble4xMlVdFTo",
        "mQ-A-l5FeH2O",
        "MpzdepgsfF8_",
        "JRsx48jnf5DJ",
        "OHiG9SocgT-K",
        "nn2TyPn_Xylh"
      ],
      "include_colab_link": true
    },
    "kernelspec": {
      "display_name": "Python 3",
      "name": "python3"
    },
    "language_info": {
      "name": "python"
    }
  },
  "cells": [
    {
      "cell_type": "markdown",
      "metadata": {
        "id": "view-in-github",
        "colab_type": "text"
      },
      "source": [
        "<a href=\"https://colab.research.google.com/github/isravazquez/equipo-3-datascience-python/blob/main/Post_works.ipynb\" target=\"_parent\"><img src=\"https://colab.research.google.com/assets/colab-badge.svg\" alt=\"Open In Colab\"/></a>"
      ]
    },
    {
      "cell_type": "markdown",
      "metadata": {
        "id": "G9fd37RxGuvf"
      },
      "source": [
        "#<h1><center><font color=#3498db>**Proyecto final de análisis de datos en Python**</font></center></h1>\n",
        "#<h2><center>**Delitos y víctimas de la CDMX**</center></h2>\n",
        "<h3><center>Integrantes:</center></h3>\n",
        "<h3><center>\n",
        "Arriaga Palma Fernando, arriaga141@gmail.com<br>\n",
        "Hernández Angulo Juan de Jesus, jhernandezangulo@gmail.com<br>\n",
        "Martínez Ibarra Hugo, hugomtzib@gmail.com<br>\n",
        "Moreno Abrego Bryan Daniel, abre.go@outlook.com<br>\n",
        "Silva Tijerina Gilberto, gilberto.silvat2812@gmail.com<br>\n",
        "Vazquez Bernal Jaime Israel, israfullshot@gmail.com</center></h3>\n",
        "<h3><center>Agosto 2021</center></h3>"
      ]
    },
    {
      "cell_type": "markdown",
      "metadata": {
        "id": "uBxvJpnKHgRR"
      },
      "source": [
        "## **Resumen**\n",
        "\n",
        "<p align=\"justify\">El trabajo consiste en el planteamiento y análisis de un problema de interés común para los integrantes del equipo. Se plantearán las principales curiosidades y propósitos para analizar el presente tema, así como exponer algunas propuestas de soluciones basadas en el análisis de datos presentado.\n",
        "\n",
        "La base de datos usada contiene la información actualizada de las víctimas de los delitos en las carpetas de investigación de la Fiscalía General de Justicia (FGJ) de la Ciudad de México a partir de enero de 2019.</p>"
      ]
    },
    {
      "cell_type": "markdown",
      "metadata": {
        "id": "Oi5clxJOa0af"
      },
      "source": [
        "##Importamos las librerías necesarias"
      ]
    },
    {
      "cell_type": "code",
      "metadata": {
        "id": "itma_nOMZ63_"
      },
      "source": [
        "# Usaremos los primero paquetes para manipulación de datos y los últimos dos para visualización de datos.\n",
        "import pandas as pd\n",
        "import numpy as np\n",
        "import matplotlib.pyplot as plt\n",
        "import seaborn as sns"
      ],
      "execution_count": null,
      "outputs": []
    },
    {
      "cell_type": "markdown",
      "metadata": {
        "id": "Fq1nJzgobF0z"
      },
      "source": [
        "##Análisis exploratorio de los datos:\n",
        "Convertir de forma adecuada su colección de Datos (en JSON, CSV, etc…) en un DataFrame de Pandas. Realizar un análisis exploratorio de estos datos a través del uso correcto de Pandas."
      ]
    },
    {
      "cell_type": "code",
      "metadata": {
        "id": "RwnEGj99bZzc"
      },
      "source": [
        "data = pd.read_csv(\"https://archivo.datos.cdmx.gob.mx/fiscalia-general-de-justicia/victimas-en-carpetas-de-investigacion-fgj/victimas_completa_junio_2021.csv\")"
      ],
      "execution_count": null,
      "outputs": []
    },
    {
      "cell_type": "code",
      "metadata": {
        "colab": {
          "base_uri": "https://localhost:8080/",
          "height": 487
        },
        "id": "CQrfTxBWbsFT",
        "outputId": "bfc8f016-a540-4455-f69c-89e80c3c0dbe"
      },
      "source": [
        "# Convertimos la base de datos a un data frame.\n",
        "df = pd.DataFrame(data)\n",
        "df.head()"
      ],
      "execution_count": null,
      "outputs": [
        {
          "output_type": "execute_result",
          "data": {
            "text/html": [
              "<div>\n",
              "<style scoped>\n",
              "    .dataframe tbody tr th:only-of-type {\n",
              "        vertical-align: middle;\n",
              "    }\n",
              "\n",
              "    .dataframe tbody tr th {\n",
              "        vertical-align: top;\n",
              "    }\n",
              "\n",
              "    .dataframe thead th {\n",
              "        text-align: right;\n",
              "    }\n",
              "</style>\n",
              "<table border=\"1\" class=\"dataframe\">\n",
              "  <thead>\n",
              "    <tr style=\"text-align: right;\">\n",
              "      <th></th>\n",
              "      <th>idCarpeta</th>\n",
              "      <th>Año_inicio</th>\n",
              "      <th>Mes_inicio</th>\n",
              "      <th>FechaInicio</th>\n",
              "      <th>Delito</th>\n",
              "      <th>Categoria</th>\n",
              "      <th>Sexo</th>\n",
              "      <th>Edad</th>\n",
              "      <th>TipoPersona</th>\n",
              "      <th>CalidadJuridica</th>\n",
              "      <th>competencia</th>\n",
              "      <th>Año_hecho</th>\n",
              "      <th>Mes_hecho</th>\n",
              "      <th>FechaHecho</th>\n",
              "      <th>HoraHecho</th>\n",
              "      <th>HoraInicio</th>\n",
              "      <th>AlcaldiaHechos</th>\n",
              "      <th>ColoniaHechos</th>\n",
              "      <th>Calle_hechos</th>\n",
              "      <th>Calle_hechos2</th>\n",
              "      <th>latitud</th>\n",
              "      <th>longitud</th>\n",
              "    </tr>\n",
              "  </thead>\n",
              "  <tbody>\n",
              "    <tr>\n",
              "      <th>0</th>\n",
              "      <td>8324429</td>\n",
              "      <td>2019</td>\n",
              "      <td>Enero</td>\n",
              "      <td>04/01/2019</td>\n",
              "      <td>FRAUDE</td>\n",
              "      <td>DELITO DE BAJO IMPACTO</td>\n",
              "      <td>Masculino</td>\n",
              "      <td>62.0</td>\n",
              "      <td>FISICA</td>\n",
              "      <td>OFENDIDO</td>\n",
              "      <td>FUERO COMUN</td>\n",
              "      <td>2018.0</td>\n",
              "      <td>Agosto</td>\n",
              "      <td>29/08/2018</td>\n",
              "      <td>12:00:00</td>\n",
              "      <td>12:19:00</td>\n",
              "      <td>ALVARO OBREGON</td>\n",
              "      <td>GUADALUPE INN</td>\n",
              "      <td>INSUGENTES SUR</td>\n",
              "      <td>NaN</td>\n",
              "      <td>19.36125</td>\n",
              "      <td>-99.18314</td>\n",
              "    </tr>\n",
              "    <tr>\n",
              "      <th>1</th>\n",
              "      <td>8324430</td>\n",
              "      <td>2019</td>\n",
              "      <td>Enero</td>\n",
              "      <td>04/01/2019</td>\n",
              "      <td>PRODUCCIÓN, IMPRESIÓN, ENAJENACIÓN, DISTRIBUCI...</td>\n",
              "      <td>DELITO DE BAJO IMPACTO</td>\n",
              "      <td>Femenino</td>\n",
              "      <td>38.0</td>\n",
              "      <td>FISICA</td>\n",
              "      <td>VICTIMA Y DENUNCIANTE</td>\n",
              "      <td>FUERO COMUN</td>\n",
              "      <td>2018.0</td>\n",
              "      <td>Diciembre</td>\n",
              "      <td>15/12/2018</td>\n",
              "      <td>15:00:00</td>\n",
              "      <td>12:20:00</td>\n",
              "      <td>AZCAPOTZALCO</td>\n",
              "      <td>VICTORIA DE LAS DEMOCRACIAS</td>\n",
              "      <td>AV.  CUATLAHUAC</td>\n",
              "      <td>NaN</td>\n",
              "      <td>19.47181</td>\n",
              "      <td>-99.16458</td>\n",
              "    </tr>\n",
              "    <tr>\n",
              "      <th>2</th>\n",
              "      <td>8324431</td>\n",
              "      <td>2019</td>\n",
              "      <td>Enero</td>\n",
              "      <td>04/01/2019</td>\n",
              "      <td>ROBO A TRANSEUNTE SALIENDO DEL BANCO CON VIOLE...</td>\n",
              "      <td>ROBO A CUENTAHABIENTE SALIENDO DEL CAJERO CON ...</td>\n",
              "      <td>Masculino</td>\n",
              "      <td>42.0</td>\n",
              "      <td>FISICA</td>\n",
              "      <td>VICTIMA Y DENUNCIANTE</td>\n",
              "      <td>FUERO COMUN</td>\n",
              "      <td>2018.0</td>\n",
              "      <td>Diciembre</td>\n",
              "      <td>22/12/2018</td>\n",
              "      <td>15:30:00</td>\n",
              "      <td>12:23:00</td>\n",
              "      <td>COYOACAN</td>\n",
              "      <td>COPILCO UNIVERSIDAD ISSSTE</td>\n",
              "      <td>COPILCO</td>\n",
              "      <td>NaN</td>\n",
              "      <td>19.33797</td>\n",
              "      <td>-99.18611</td>\n",
              "    </tr>\n",
              "    <tr>\n",
              "      <th>3</th>\n",
              "      <td>8324435</td>\n",
              "      <td>2019</td>\n",
              "      <td>Enero</td>\n",
              "      <td>04/01/2019</td>\n",
              "      <td>ROBO DE VEHICULO DE SERVICIO PARTICULAR SIN VI...</td>\n",
              "      <td>ROBO DE VEHÍCULO CON Y SIN VIOLENCIA</td>\n",
              "      <td>Masculino</td>\n",
              "      <td>35.0</td>\n",
              "      <td>FISICA</td>\n",
              "      <td>VICTIMA Y DENUNCIANTE</td>\n",
              "      <td>FUERO COMUN</td>\n",
              "      <td>2019.0</td>\n",
              "      <td>Enero</td>\n",
              "      <td>04/01/2019</td>\n",
              "      <td>06:00:00</td>\n",
              "      <td>12:27:00</td>\n",
              "      <td>IZTACALCO</td>\n",
              "      <td>AGRÍCOLA PANTITLAN</td>\n",
              "      <td>CALLE 6</td>\n",
              "      <td>ENTRE PRIVADA DEL VALLE Y PRIVADA GONZALEZ</td>\n",
              "      <td>19.40327</td>\n",
              "      <td>-99.05983</td>\n",
              "    </tr>\n",
              "    <tr>\n",
              "      <th>4</th>\n",
              "      <td>8324438</td>\n",
              "      <td>2019</td>\n",
              "      <td>Enero</td>\n",
              "      <td>04/01/2019</td>\n",
              "      <td>ROBO DE MOTOCICLETA SIN VIOLENCIA</td>\n",
              "      <td>ROBO DE VEHÍCULO CON Y SIN VIOLENCIA</td>\n",
              "      <td>Masculino</td>\n",
              "      <td>NaN</td>\n",
              "      <td>FISICA</td>\n",
              "      <td>VICTIMA</td>\n",
              "      <td>FUERO COMUN</td>\n",
              "      <td>2019.0</td>\n",
              "      <td>Enero</td>\n",
              "      <td>03/01/2019</td>\n",
              "      <td>20:00:00</td>\n",
              "      <td>12:35:00</td>\n",
              "      <td>IZTAPALAPA</td>\n",
              "      <td>PROGRESISTA</td>\n",
              "      <td>UNIVERSIDAD</td>\n",
              "      <td>NaN</td>\n",
              "      <td>19.35480</td>\n",
              "      <td>-99.06324</td>\n",
              "    </tr>\n",
              "  </tbody>\n",
              "</table>\n",
              "</div>"
            ],
            "text/plain": [
              "   idCarpeta  Año_inicio  ...   latitud  longitud\n",
              "0    8324429        2019  ...  19.36125 -99.18314\n",
              "1    8324430        2019  ...  19.47181 -99.16458\n",
              "2    8324431        2019  ...  19.33797 -99.18611\n",
              "3    8324435        2019  ...  19.40327 -99.05983\n",
              "4    8324438        2019  ...  19.35480 -99.06324\n",
              "\n",
              "[5 rows x 22 columns]"
            ]
          },
          "metadata": {
            "tags": []
          },
          "execution_count": 3
        }
      ]
    },
    {
      "cell_type": "markdown",
      "metadata": {
        "id": "pI-eTskcrgta"
      },
      "source": [
        "Cabe mencionar que cada columna representa lo siguiente (información dsiponible también en el repositorio y archivo de Word):\n",
        "\n",
        "**FechaInicio**:\tDía y hora en que se hizo la denuncia para iniciar la carpeta de investigación.\n",
        "\n",
        "**HoraInicio**: Hora y minuto en que se hizo la denuncia para iniciar la carpeta de investigación.\n",
        "\n",
        "**Año_hecho**: Año en que se cometió el delito, según el reporte de la víctima.\n",
        "\n",
        "**Mes_hecho**:\tMes en que se cometió el delito, según el reporte de la víctima.\n",
        "\n",
        "**Año_inicio**:\tAño en que se hizo la denuncia para inciar la carpeta de investigación.\n",
        "\n",
        "**Mes_inicio**:\tMes en que se hizo la denuncia para inciar la carpeta de investigación.\n",
        "\n",
        "**Sexo**:\tSexo de la víctima del delito reportado.\n",
        "\n",
        "**Edad**:\tEdad de la víctima del delito reportado en la carpeta de investigación.\n",
        "\n",
        "**TipoPersona**:\tCómo se reconoce a el o los denunciantes al ser sujetos de obligaciones y derechos salvaguardados legislación penal vigente.\n",
        "\n",
        "**CalidadJuridica**:\tTítulo con el que se registra y se identifica a la persona, física o moral, en la carpeta de investigación.\n",
        "\n",
        "**Competencia**:\tVariable categórica a través de la cuál se clasifican los hechos según su naturaleza. Hechos no delictivos corresponde  a aquellos que son denunciados a la PGJ pero no constituyen un delito en sí mismos como por ejemplo un suicidio. Incompetencias son aquellos hechos delictivos que suceden fuera de la Ciudad de México y son denunciados a la PGJ de la Ciudad de México, por lo que no se deben tomar en cuenta como incidencia delictiva propia de la ciudad. Fuero común son los delitos que ocurren y se denuncian dentro de la Ciudad de México.\n",
        "\n",
        "**lon**:\tLongitud de la geolocalización, uno de dos elemento que componen la referencia angular que permite localizar el lugar donde se cometió el delito.\n",
        "\n",
        "**lat**:\tLatitud de la geolocalización, uno de dos elemento que componen la referencia angular que permite localizar el lugar donde se cometió el delito.\n",
        "\n",
        "**AlcaldiaHechos**:\tAlcaldía en que se cometió el delito, según el reporte de la víctima. Notar que puede ser fuera de la CDMX.\n",
        "\n",
        "**ColoniaHechos**:\tColonia en que se cometió el delito, según el reporte de la víctima. Notar que puede ser fuera de la CDMX.\n",
        "\n",
        "**Calle_hechos**:\tCalle en que se cometió el delito, según el reporte de la víctima.\n",
        "\n",
        "**Calle_hechos2**:\tCalle secundaria en que se cometió el delito, según el reporte de la víctima.\n"
      ]
    },
    {
      "cell_type": "markdown",
      "metadata": {
        "id": "4gL4lS84uDso"
      },
      "source": [
        "Se puede apreciar que algunas columnas tienen valores NaN, lo cual representará hacer una limpieza. Se verá además el tipo de datos de cada columna y la cantidad de valores NaN por cada una de ellas."
      ]
    },
    {
      "cell_type": "code",
      "metadata": {
        "colab": {
          "base_uri": "https://localhost:8080/"
        },
        "id": "UgHWmrxHuVhN",
        "outputId": "1e2b3d17-901d-45c9-eb4e-cab3bdc1ccf9"
      },
      "source": [
        "# Para ver el tipo de datos de cada columna.\n",
        "df.dtypes"
      ],
      "execution_count": null,
      "outputs": [
        {
          "output_type": "execute_result",
          "data": {
            "text/plain": [
              "idCarpeta            int64\n",
              "Año_inicio           int64\n",
              "Mes_inicio          object\n",
              "FechaInicio         object\n",
              "Delito              object\n",
              "Categoria           object\n",
              "Sexo                object\n",
              "Edad               float64\n",
              "TipoPersona         object\n",
              "CalidadJuridica     object\n",
              "competencia         object\n",
              "Año_hecho          float64\n",
              "Mes_hecho           object\n",
              "FechaHecho          object\n",
              "HoraHecho           object\n",
              "HoraInicio          object\n",
              "AlcaldiaHechos      object\n",
              "ColoniaHechos       object\n",
              "Calle_hechos        object\n",
              "Calle_hechos2       object\n",
              "latitud            float64\n",
              "longitud           float64\n",
              "dtype: object"
            ]
          },
          "metadata": {
            "tags": []
          },
          "execution_count": 4
        }
      ]
    },
    {
      "cell_type": "code",
      "metadata": {
        "colab": {
          "base_uri": "https://localhost:8080/"
        },
        "id": "oytKF2cFucl0",
        "outputId": "ea2e8a95-9028-48e5-90bb-70971d76698b"
      },
      "source": [
        "# El número de valores NaN por cada columna.\n",
        "df.isna().sum(axis=0)"
      ],
      "execution_count": null,
      "outputs": [
        {
          "output_type": "execute_result",
          "data": {
            "text/plain": [
              "idCarpeta               0\n",
              "Año_inicio              0\n",
              "Mes_inicio              0\n",
              "FechaInicio             0\n",
              "Delito                  0\n",
              "Categoria               0\n",
              "Sexo               120629\n",
              "Edad               221401\n",
              "TipoPersona          5149\n",
              "CalidadJuridica         1\n",
              "competencia             0\n",
              "Año_hecho             288\n",
              "Mes_hecho             288\n",
              "FechaHecho            288\n",
              "HoraHecho             286\n",
              "HoraInicio              1\n",
              "AlcaldiaHechos        415\n",
              "ColoniaHechos       24270\n",
              "Calle_hechos         1119\n",
              "Calle_hechos2      380760\n",
              "latitud             24045\n",
              "longitud            24047\n",
              "dtype: int64"
            ]
          },
          "metadata": {
            "tags": []
          },
          "execution_count": 5
        }
      ]
    },
    {
      "cell_type": "markdown",
      "metadata": {
        "id": "zOLVWt4Nu1ZL"
      },
      "source": [
        "Dado lo anterior, se requerirá cambiar a tipo de dato adecuado algunas columnas del data frame y eliminar los valores NaN."
      ]
    },
    {
      "cell_type": "markdown",
      "metadata": {
        "id": "6-xAyr3Vb5J6"
      },
      "source": [
        "##Limpieza de datos:  \n",
        "El nuevo Dataset no deberá contener ningún NaN. Para esto realizamos una copia de la base de datos a la cual haremos la limpieza."
      ]
    },
    {
      "cell_type": "code",
      "metadata": {
        "id": "z9EBRXOVb-fb"
      },
      "source": [
        "# Copia a la cual se harán las modificaciones mencionadas antes.\n",
        "df_cleaned = df.copy()"
      ],
      "execution_count": null,
      "outputs": []
    },
    {
      "cell_type": "markdown",
      "metadata": {
        "id": "OKCyUNzxcJFE"
      },
      "source": [
        "De acuerdo al informe de cantidad de NaN  en cada columna se eliminará los registros donde no existe dato de TipoPersona, CalidadJurídica, Año_hecho, Mes_hecho, FechaHecho, HoraInicio  y AlcaldiaHechos. Esto es porque la falta de datos en esas columnas representa información sin sentido ya que son datos importantes a los cuales no se les puede asignar otro valor arbitrario."
      ]
    },
    {
      "cell_type": "code",
      "metadata": {
        "colab": {
          "base_uri": "https://localhost:8080/"
        },
        "id": "rvrH6f_NcNk1",
        "outputId": "b3815331-ada5-4d15-d83e-9bb86129ddc0"
      },
      "source": [
        "# El siguiente comando elimina los nan por cada columna considerada.\n",
        "df_cleaned.dropna(subset=[\"TipoPersona\", \"CalidadJuridica\", \"Año_hecho\", \"Mes_hecho\", \"FechaHecho\", \"HoraHecho\", \"HoraInicio\", \"AlcaldiaHechos\"], inplace=True)\n",
        "df_cleaned.isna().sum(axis=0)"
      ],
      "execution_count": null,
      "outputs": [
        {
          "output_type": "execute_result",
          "data": {
            "text/plain": [
              "idCarpeta               0\n",
              "Año_inicio              0\n",
              "Mes_inicio              0\n",
              "FechaInicio             0\n",
              "Delito                  0\n",
              "Categoria               0\n",
              "Sexo               115369\n",
              "Edad               216491\n",
              "TipoPersona             0\n",
              "CalidadJuridica         0\n",
              "competencia             0\n",
              "Año_hecho               0\n",
              "Mes_hecho               0\n",
              "FechaHecho              0\n",
              "HoraHecho               0\n",
              "HoraInicio              0\n",
              "AlcaldiaHechos          0\n",
              "ColoniaHechos       23571\n",
              "Calle_hechos         1062\n",
              "Calle_hechos2      377113\n",
              "latitud             23345\n",
              "longitud            23347\n",
              "dtype: int64"
            ]
          },
          "metadata": {
            "tags": []
          },
          "execution_count": 7
        }
      ]
    },
    {
      "cell_type": "markdown",
      "metadata": {
        "id": "jbRZRc59cR7q"
      },
      "source": [
        "Además, cuando el tipo de persona es MORAL se indicará en el campo Sexo y Edad que esos datos no aplican. Y estos datos podrían ser analizados más adelante con otra perspectiva, pues regularmente esos datos son de denuncias realizada por delitos cometidos a negocios o algo similar."
      ]
    },
    {
      "cell_type": "code",
      "metadata": {
        "colab": {
          "base_uri": "https://localhost:8080/"
        },
        "id": "tTdbwinvcY3_",
        "outputId": "4f0b7b71-cbb0-4291-87da-06f55df11fff"
      },
      "source": [
        "# Esta instrucción localiza los registros que cumplen las condiciones dentro del método .loc y les asigna el valor \"No aplica\"\n",
        "df_cleaned.loc[(df_cleaned[\"Sexo\"].isna()) & (df_cleaned[\"Edad\"].isna()) & (df_cleaned[\"TipoPersona\"]==\"MORAL\"), [\"Sexo\", \"Edad\"]] = \"No aplica\"\n",
        "# Luego se verá como esto reduce la cantidad de valores nan en la columna Sexo y Edad, principalmente en la primera.\n",
        "df_cleaned.isna().sum(axis=0)"
      ],
      "execution_count": null,
      "outputs": [
        {
          "output_type": "execute_result",
          "data": {
            "text/plain": [
              "idCarpeta               0\n",
              "Año_inicio              0\n",
              "Mes_inicio              0\n",
              "FechaInicio             0\n",
              "Delito                  0\n",
              "Categoria               0\n",
              "Sexo                  456\n",
              "Edad               101578\n",
              "TipoPersona             0\n",
              "CalidadJuridica         0\n",
              "competencia             0\n",
              "Año_hecho               0\n",
              "Mes_hecho               0\n",
              "FechaHecho              0\n",
              "HoraHecho               0\n",
              "HoraInicio              0\n",
              "AlcaldiaHechos          0\n",
              "ColoniaHechos       23571\n",
              "Calle_hechos         1062\n",
              "Calle_hechos2      377113\n",
              "latitud             23345\n",
              "longitud            23347\n",
              "dtype: int64"
            ]
          },
          "metadata": {
            "tags": []
          },
          "execution_count": 8
        }
      ]
    },
    {
      "cell_type": "markdown",
      "metadata": {
        "id": "VgOjWDFQxBm5"
      },
      "source": [
        "Como aún hay datos cuando el tipo de persona es MORAL y no se tiene dato de sexo y Edad, estos registros serán eliminados por la razón mencionada antes, pues al faltar uno de ellos, la descripción de la denuncia es incompleta, ya que no se puede asignar un valor arbitrario en la columna donde falte. Esto mismo aplica para las columnas ColoniaHechos, Calle_hechos, latitud y longitud."
      ]
    },
    {
      "cell_type": "code",
      "metadata": {
        "colab": {
          "base_uri": "https://localhost:8080/"
        },
        "id": "ygOm9LUfcdOW",
        "outputId": "18bc1315-56ac-4a98-8564-48919a17a2f8"
      },
      "source": [
        "# Con este comando eliminamos los nan de las columnas mencionadas antes.\n",
        "df_cleaned.dropna(subset=[\"Sexo\", \"Edad\", \"ColoniaHechos\", \"Calle_hechos\", \"latitud\", \"longitud\"], inplace=True)\n",
        "print(df_cleaned.isna().sum(axis=0))"
      ],
      "execution_count": null,
      "outputs": [
        {
          "output_type": "stream",
          "text": [
            "idCarpeta               0\n",
            "Año_inicio              0\n",
            "Mes_inicio              0\n",
            "FechaInicio             0\n",
            "Delito                  0\n",
            "Categoria               0\n",
            "Sexo                    0\n",
            "Edad                    0\n",
            "TipoPersona             0\n",
            "CalidadJuridica         0\n",
            "competencia             0\n",
            "Año_hecho               0\n",
            "Mes_hecho               0\n",
            "FechaHecho              0\n",
            "HoraHecho               0\n",
            "HoraInicio              0\n",
            "AlcaldiaHechos          0\n",
            "ColoniaHechos           0\n",
            "Calle_hechos            0\n",
            "Calle_hechos2      288986\n",
            "latitud                 0\n",
            "longitud                0\n",
            "dtype: int64\n"
          ],
          "name": "stdout"
        }
      ]
    },
    {
      "cell_type": "markdown",
      "metadata": {
        "id": "buYfA9T8yBRm"
      },
      "source": [
        "Ya que el dato de Calle_hechos2 representa un número considerable de toda la base de datos y esta por ahora no será utilizada, se puede prescindir de ella."
      ]
    },
    {
      "cell_type": "code",
      "metadata": {
        "colab": {
          "base_uri": "https://localhost:8080/"
        },
        "id": "-3myqitDcgyD",
        "outputId": "7e11e110-bb2a-44de-a1ed-987376d0e40e"
      },
      "source": [
        "# Se elimina la columna Calle_hechos2\n",
        "df_cleaned.drop(columns=\"Calle_hechos2\", inplace=True)\n",
        "df_cleaned.reset_index(drop=True, inplace=True)\n",
        "# Ahora la base de datos ya está completamente limpia\n",
        "df_cleaned.isna().sum(axis=0)"
      ],
      "execution_count": null,
      "outputs": [
        {
          "output_type": "execute_result",
          "data": {
            "text/plain": [
              "idCarpeta          0\n",
              "Año_inicio         0\n",
              "Mes_inicio         0\n",
              "FechaInicio        0\n",
              "Delito             0\n",
              "Categoria          0\n",
              "Sexo               0\n",
              "Edad               0\n",
              "TipoPersona        0\n",
              "CalidadJuridica    0\n",
              "competencia        0\n",
              "Año_hecho          0\n",
              "Mes_hecho          0\n",
              "FechaHecho         0\n",
              "HoraHecho          0\n",
              "HoraInicio         0\n",
              "AlcaldiaHechos     0\n",
              "ColoniaHechos      0\n",
              "Calle_hechos       0\n",
              "latitud            0\n",
              "longitud           0\n",
              "dtype: int64"
            ]
          },
          "metadata": {
            "tags": []
          },
          "execution_count": 10
        }
      ]
    },
    {
      "cell_type": "markdown",
      "metadata": {
        "id": "Ble4xMlVdFTo"
      },
      "source": [
        "##Transformación de datos: \n",
        "Ahora se modificarán cierta columnas para que contengan el valor correcto dependiendo del tipo de dato (fechas, objetos, ints, floats)."
      ]
    },
    {
      "cell_type": "code",
      "metadata": {
        "colab": {
          "base_uri": "https://localhost:8080/"
        },
        "id": "nc8J5NZodLS9",
        "outputId": "86b19635-7156-4819-abcf-7d0d3219ebb6"
      },
      "source": [
        "# Se observa nuevamente el tipo de datos que contiene cada columna de la base de datos limpia.\n",
        "df_cleaned.dtypes"
      ],
      "execution_count": null,
      "outputs": [
        {
          "output_type": "execute_result",
          "data": {
            "text/plain": [
              "idCarpeta            int64\n",
              "Año_inicio           int64\n",
              "Mes_inicio          object\n",
              "FechaInicio         object\n",
              "Delito              object\n",
              "Categoria           object\n",
              "Sexo                object\n",
              "Edad                object\n",
              "TipoPersona         object\n",
              "CalidadJuridica     object\n",
              "competencia         object\n",
              "Año_hecho          float64\n",
              "Mes_hecho           object\n",
              "FechaHecho          object\n",
              "HoraHecho           object\n",
              "HoraInicio          object\n",
              "AlcaldiaHechos      object\n",
              "ColoniaHechos       object\n",
              "Calle_hechos        object\n",
              "latitud            float64\n",
              "longitud           float64\n",
              "dtype: object"
            ]
          },
          "metadata": {
            "tags": []
          },
          "execution_count": 11
        }
      ]
    },
    {
      "cell_type": "markdown",
      "metadata": {
        "id": "X4QXpkWFy9cQ"
      },
      "source": [
        "Notar que las columnas de fecha no están en el formato adecuado"
      ]
    },
    {
      "cell_type": "code",
      "metadata": {
        "id": "I3t_EgF0dPfx"
      },
      "source": [
        "# Se crea una copia a la cual se realizarán transformaciones.\n",
        "df_base = df_cleaned.copy()"
      ],
      "execution_count": null,
      "outputs": []
    },
    {
      "cell_type": "markdown",
      "metadata": {
        "id": "VAqkX_D50w4w"
      },
      "source": [
        "Ya que al transformar una cadena de texto a fecha, esta también le incluye la hora, se decidió aprovechar esta carácterística para crear fechas que también contengan la hora. Una forma de hacer esto es concatenar los datos de fecha y hora para luego convertirlos a formato fecha en Python."
      ]
    },
    {
      "cell_type": "code",
      "metadata": {
        "id": "xA6Ft4g-dU-Y",
        "colab": {
          "base_uri": "https://localhost:8080/",
          "height": 487
        },
        "outputId": "254e141f-522c-46ff-938e-bcbdc75187e1"
      },
      "source": [
        "# Para comenzar, se concatenan los datos de fecha y hora.\n",
        "df_base[\"FechaInicio\"] = df_base[\"FechaInicio\"] + \" \" + df_base[\"HoraInicio\"]\n",
        "df_base[\"FechaHecho\"] = df_base[\"FechaHecho\"] + \" \" + df_base[\"HoraHecho\"]\n",
        "df_base.head()"
      ],
      "execution_count": null,
      "outputs": [
        {
          "output_type": "execute_result",
          "data": {
            "text/html": [
              "<div>\n",
              "<style scoped>\n",
              "    .dataframe tbody tr th:only-of-type {\n",
              "        vertical-align: middle;\n",
              "    }\n",
              "\n",
              "    .dataframe tbody tr th {\n",
              "        vertical-align: top;\n",
              "    }\n",
              "\n",
              "    .dataframe thead th {\n",
              "        text-align: right;\n",
              "    }\n",
              "</style>\n",
              "<table border=\"1\" class=\"dataframe\">\n",
              "  <thead>\n",
              "    <tr style=\"text-align: right;\">\n",
              "      <th></th>\n",
              "      <th>idCarpeta</th>\n",
              "      <th>Año_inicio</th>\n",
              "      <th>Mes_inicio</th>\n",
              "      <th>FechaInicio</th>\n",
              "      <th>Delito</th>\n",
              "      <th>Categoria</th>\n",
              "      <th>Sexo</th>\n",
              "      <th>Edad</th>\n",
              "      <th>TipoPersona</th>\n",
              "      <th>CalidadJuridica</th>\n",
              "      <th>competencia</th>\n",
              "      <th>Año_hecho</th>\n",
              "      <th>Mes_hecho</th>\n",
              "      <th>FechaHecho</th>\n",
              "      <th>HoraHecho</th>\n",
              "      <th>HoraInicio</th>\n",
              "      <th>AlcaldiaHechos</th>\n",
              "      <th>ColoniaHechos</th>\n",
              "      <th>Calle_hechos</th>\n",
              "      <th>latitud</th>\n",
              "      <th>longitud</th>\n",
              "    </tr>\n",
              "  </thead>\n",
              "  <tbody>\n",
              "    <tr>\n",
              "      <th>0</th>\n",
              "      <td>8324429</td>\n",
              "      <td>2019</td>\n",
              "      <td>Enero</td>\n",
              "      <td>04/01/2019 12:19:00</td>\n",
              "      <td>FRAUDE</td>\n",
              "      <td>DELITO DE BAJO IMPACTO</td>\n",
              "      <td>Masculino</td>\n",
              "      <td>62</td>\n",
              "      <td>FISICA</td>\n",
              "      <td>OFENDIDO</td>\n",
              "      <td>FUERO COMUN</td>\n",
              "      <td>2018.0</td>\n",
              "      <td>Agosto</td>\n",
              "      <td>29/08/2018 12:00:00</td>\n",
              "      <td>12:00:00</td>\n",
              "      <td>12:19:00</td>\n",
              "      <td>ALVARO OBREGON</td>\n",
              "      <td>GUADALUPE INN</td>\n",
              "      <td>INSUGENTES SUR</td>\n",
              "      <td>19.36125</td>\n",
              "      <td>-99.18314</td>\n",
              "    </tr>\n",
              "    <tr>\n",
              "      <th>1</th>\n",
              "      <td>8324430</td>\n",
              "      <td>2019</td>\n",
              "      <td>Enero</td>\n",
              "      <td>04/01/2019 12:20:00</td>\n",
              "      <td>PRODUCCIÓN, IMPRESIÓN, ENAJENACIÓN, DISTRIBUCI...</td>\n",
              "      <td>DELITO DE BAJO IMPACTO</td>\n",
              "      <td>Femenino</td>\n",
              "      <td>38</td>\n",
              "      <td>FISICA</td>\n",
              "      <td>VICTIMA Y DENUNCIANTE</td>\n",
              "      <td>FUERO COMUN</td>\n",
              "      <td>2018.0</td>\n",
              "      <td>Diciembre</td>\n",
              "      <td>15/12/2018 15:00:00</td>\n",
              "      <td>15:00:00</td>\n",
              "      <td>12:20:00</td>\n",
              "      <td>AZCAPOTZALCO</td>\n",
              "      <td>VICTORIA DE LAS DEMOCRACIAS</td>\n",
              "      <td>AV.  CUATLAHUAC</td>\n",
              "      <td>19.47181</td>\n",
              "      <td>-99.16458</td>\n",
              "    </tr>\n",
              "    <tr>\n",
              "      <th>2</th>\n",
              "      <td>8324431</td>\n",
              "      <td>2019</td>\n",
              "      <td>Enero</td>\n",
              "      <td>04/01/2019 12:23:00</td>\n",
              "      <td>ROBO A TRANSEUNTE SALIENDO DEL BANCO CON VIOLE...</td>\n",
              "      <td>ROBO A CUENTAHABIENTE SALIENDO DEL CAJERO CON ...</td>\n",
              "      <td>Masculino</td>\n",
              "      <td>42</td>\n",
              "      <td>FISICA</td>\n",
              "      <td>VICTIMA Y DENUNCIANTE</td>\n",
              "      <td>FUERO COMUN</td>\n",
              "      <td>2018.0</td>\n",
              "      <td>Diciembre</td>\n",
              "      <td>22/12/2018 15:30:00</td>\n",
              "      <td>15:30:00</td>\n",
              "      <td>12:23:00</td>\n",
              "      <td>COYOACAN</td>\n",
              "      <td>COPILCO UNIVERSIDAD ISSSTE</td>\n",
              "      <td>COPILCO</td>\n",
              "      <td>19.33797</td>\n",
              "      <td>-99.18611</td>\n",
              "    </tr>\n",
              "    <tr>\n",
              "      <th>3</th>\n",
              "      <td>8324435</td>\n",
              "      <td>2019</td>\n",
              "      <td>Enero</td>\n",
              "      <td>04/01/2019 12:27:00</td>\n",
              "      <td>ROBO DE VEHICULO DE SERVICIO PARTICULAR SIN VI...</td>\n",
              "      <td>ROBO DE VEHÍCULO CON Y SIN VIOLENCIA</td>\n",
              "      <td>Masculino</td>\n",
              "      <td>35</td>\n",
              "      <td>FISICA</td>\n",
              "      <td>VICTIMA Y DENUNCIANTE</td>\n",
              "      <td>FUERO COMUN</td>\n",
              "      <td>2019.0</td>\n",
              "      <td>Enero</td>\n",
              "      <td>04/01/2019 06:00:00</td>\n",
              "      <td>06:00:00</td>\n",
              "      <td>12:27:00</td>\n",
              "      <td>IZTACALCO</td>\n",
              "      <td>AGRÍCOLA PANTITLAN</td>\n",
              "      <td>CALLE 6</td>\n",
              "      <td>19.40327</td>\n",
              "      <td>-99.05983</td>\n",
              "    </tr>\n",
              "    <tr>\n",
              "      <th>4</th>\n",
              "      <td>8324442</td>\n",
              "      <td>2019</td>\n",
              "      <td>Enero</td>\n",
              "      <td>04/01/2019 12:38:00</td>\n",
              "      <td>PRODUCCIÓN, IMPRESIÓN, ENAJENACIÓN, DISTRIBUCI...</td>\n",
              "      <td>DELITO DE BAJO IMPACTO</td>\n",
              "      <td>Femenino</td>\n",
              "      <td>42</td>\n",
              "      <td>FISICA</td>\n",
              "      <td>OFENDIDO</td>\n",
              "      <td>FUERO COMUN</td>\n",
              "      <td>2018.0</td>\n",
              "      <td>Octubre</td>\n",
              "      <td>12/10/2018 18:00:00</td>\n",
              "      <td>18:00:00</td>\n",
              "      <td>12:38:00</td>\n",
              "      <td>COYOACAN</td>\n",
              "      <td>PUEBLO DE LOS REYES</td>\n",
              "      <td>PEDRO ENRIQUEZ UREÑA</td>\n",
              "      <td>19.33537</td>\n",
              "      <td>-99.16016</td>\n",
              "    </tr>\n",
              "  </tbody>\n",
              "</table>\n",
              "</div>"
            ],
            "text/plain": [
              "   idCarpeta  Año_inicio Mes_inicio  ...          Calle_hechos   latitud  longitud\n",
              "0    8324429        2019      Enero  ...        INSUGENTES SUR  19.36125 -99.18314\n",
              "1    8324430        2019      Enero  ...       AV.  CUATLAHUAC  19.47181 -99.16458\n",
              "2    8324431        2019      Enero  ...               COPILCO  19.33797 -99.18611\n",
              "3    8324435        2019      Enero  ...               CALLE 6  19.40327 -99.05983\n",
              "4    8324442        2019      Enero  ...  PEDRO ENRIQUEZ UREÑA  19.33537 -99.16016\n",
              "\n",
              "[5 rows x 21 columns]"
            ]
          },
          "metadata": {
            "tags": []
          },
          "execution_count": 13
        }
      ]
    },
    {
      "cell_type": "code",
      "metadata": {
        "id": "07iFgISFdX59"
      },
      "source": [
        "# Se convierten las fechas a formato adecuado.\n",
        "df_base[\"FechaInicio\"] = pd.to_datetime(df_base[\"FechaInicio\"], format=\"%d/%m/%Y %H:%M:%S\")\n",
        "df_base[\"FechaHecho\"] = pd.to_datetime(df_base[\"FechaHecho\"], format=\"%d/%m/%Y %H:%M:%S\")"
      ],
      "execution_count": null,
      "outputs": []
    },
    {
      "cell_type": "code",
      "metadata": {
        "colab": {
          "base_uri": "https://localhost:8080/"
        },
        "id": "aA8OXUWAdklx",
        "outputId": "a077de87-4032-40c2-a432-ceb40c3545c5"
      },
      "source": [
        "# Se convierte además el año que está en float a entero y se observa cómo han cambiado el tipo de datos.\n",
        "df_base[\"Año_hecho\"] = df_base[\"Año_hecho\"].astype(int)\n",
        "# También se cambiará el nombre de columnas para tener un formato uniforme.\n",
        "df_base = df_base.rename(columns = {\"Año_inicio\":\"AñoInicio\", \"Mes_inicio\":\"MesInicio\", \"Año_hecho\":\"AñoHecho\", \"Mes_hecho\":\"MesHecho\", \"Calle_hechos\":\"CalleHechos\", \"competencia\":\"Competencia\", \"latitud\":\"Latitud\", \"longitud\":\"Longitud\"})\n",
        "df_base.dtypes"
      ],
      "execution_count": null,
      "outputs": [
        {
          "output_type": "execute_result",
          "data": {
            "text/plain": [
              "idCarpeta                   int64\n",
              "AñoInicio                   int64\n",
              "MesInicio                  object\n",
              "FechaInicio        datetime64[ns]\n",
              "Delito                     object\n",
              "Categoria                  object\n",
              "Sexo                       object\n",
              "Edad                       object\n",
              "TipoPersona                object\n",
              "CalidadJuridica            object\n",
              "Competencia                object\n",
              "AñoHecho                    int64\n",
              "MesHecho                   object\n",
              "FechaHecho         datetime64[ns]\n",
              "HoraHecho                  object\n",
              "HoraInicio                 object\n",
              "AlcaldiaHechos             object\n",
              "ColoniaHechos              object\n",
              "CalleHechos                object\n",
              "Latitud                   float64\n",
              "Longitud                  float64\n",
              "dtype: object"
            ]
          },
          "metadata": {
            "tags": []
          },
          "execution_count": 15
        }
      ]
    },
    {
      "cell_type": "markdown",
      "metadata": {
        "id": "x1ecxhy8eEOI"
      },
      "source": [
        "## Resolución de preguntas"
      ]
    },
    {
      "cell_type": "markdown",
      "metadata": {
        "id": "mQ-A-l5FeH2O"
      },
      "source": [
        "###¿Cuáles son los delitos más comunes?"
      ]
    },
    {
      "cell_type": "code",
      "metadata": {
        "colab": {
          "base_uri": "https://localhost:8080/",
          "height": 708
        },
        "id": "2M1Q1KVadn_f",
        "outputId": "12ab6fa4-2570-4eec-dbf1-7de5590cf08d"
      },
      "source": [
        "# Primero se agrupan los datos por la columna Delito, de modo que se obtenga la cantidad de datos por cada categoría en la columna Delito.\n",
        "num_delitos = df_base.groupby(by=\"Delito\").size()\n",
        "# Para obtener los delitos más comunes se ordena los datos filtrados de mayor a menor, y se obtienen los 20 primeros.\n",
        "top20_delitos = num_delitos.sort_values(ascending=False).head(20)\n",
        "top20_delitos = pd.DataFrame(top20_delitos).rename(columns={0:\"Cantidad\"})\n",
        "top20_delitos"
      ],
      "execution_count": null,
      "outputs": [
        {
          "output_type": "execute_result",
          "data": {
            "text/html": [
              "<div>\n",
              "<style scoped>\n",
              "    .dataframe tbody tr th:only-of-type {\n",
              "        vertical-align: middle;\n",
              "    }\n",
              "\n",
              "    .dataframe tbody tr th {\n",
              "        vertical-align: top;\n",
              "    }\n",
              "\n",
              "    .dataframe thead th {\n",
              "        text-align: right;\n",
              "    }\n",
              "</style>\n",
              "<table border=\"1\" class=\"dataframe\">\n",
              "  <thead>\n",
              "    <tr style=\"text-align: right;\">\n",
              "      <th></th>\n",
              "      <th>Cantidad</th>\n",
              "    </tr>\n",
              "    <tr>\n",
              "      <th>Delito</th>\n",
              "      <th></th>\n",
              "    </tr>\n",
              "  </thead>\n",
              "  <tbody>\n",
              "    <tr>\n",
              "      <th>VIOLENCIA FAMILIAR</th>\n",
              "      <td>64264</td>\n",
              "    </tr>\n",
              "    <tr>\n",
              "      <th>AMENAZAS</th>\n",
              "      <td>29745</td>\n",
              "    </tr>\n",
              "    <tr>\n",
              "      <th>ROBO A NEGOCIO SIN VIOLENCIA</th>\n",
              "      <td>25248</td>\n",
              "    </tr>\n",
              "    <tr>\n",
              "      <th>FRAUDE</th>\n",
              "      <td>24433</td>\n",
              "    </tr>\n",
              "    <tr>\n",
              "      <th>ROBO A TRANSEUNTE EN VIA PUBLICA CON VIOLENCIA</th>\n",
              "      <td>23483</td>\n",
              "    </tr>\n",
              "    <tr>\n",
              "      <th>ROBO DE OBJETOS</th>\n",
              "      <td>22964</td>\n",
              "    </tr>\n",
              "    <tr>\n",
              "      <th>ROBO DE ACCESORIOS DE AUTO</th>\n",
              "      <td>16731</td>\n",
              "    </tr>\n",
              "    <tr>\n",
              "      <th>ROBO A NEGOCIO CON VIOLENCIA</th>\n",
              "      <td>15695</td>\n",
              "    </tr>\n",
              "    <tr>\n",
              "      <th>ROBO DE OBJETOS DEL INTERIOR DE UN VEHICULO</th>\n",
              "      <td>12827</td>\n",
              "    </tr>\n",
              "    <tr>\n",
              "      <th>ROBO DE VEHICULO DE SERVICIO PARTICULAR SIN VIOLENCIA</th>\n",
              "      <td>12227</td>\n",
              "    </tr>\n",
              "    <tr>\n",
              "      <th>NARCOMENUDEO POSESION SIMPLE</th>\n",
              "      <td>10910</td>\n",
              "    </tr>\n",
              "    <tr>\n",
              "      <th>ROBO A CASA HABITACION SIN VIOLENCIA</th>\n",
              "      <td>9715</td>\n",
              "    </tr>\n",
              "    <tr>\n",
              "      <th>ROBO A NEGOCIO SIN VIOLENCIA POR FARDEROS (TIENDAS DE AUTOSERVICIO)</th>\n",
              "      <td>8726</td>\n",
              "    </tr>\n",
              "    <tr>\n",
              "      <th>PRODUCCIÓN, IMPRESIÓN, ENAJENACIÓN, DISTRIBUCIÓN, ALTERACIÓN O FALSIFICACIÓN DE TÍTULOS AL PORTADOR, DOCUMENTOS DE CRÉDITO PÚBLICOS O VALES DE CANJE</th>\n",
              "      <td>8202</td>\n",
              "    </tr>\n",
              "    <tr>\n",
              "      <th>ABUSO SEXUAL</th>\n",
              "      <td>7399</td>\n",
              "    </tr>\n",
              "    <tr>\n",
              "      <th>DAÑO EN PROPIEDAD AJENA CULPOSA POR TRÁNSITO VEHICULAR A AUTOMOVIL</th>\n",
              "      <td>6724</td>\n",
              "    </tr>\n",
              "    <tr>\n",
              "      <th>ABUSO DE CONFIANZA</th>\n",
              "      <td>6677</td>\n",
              "    </tr>\n",
              "    <tr>\n",
              "      <th>ROBO A PASAJERO / CONDUCTOR DE VEHICULO CON VIOLENCIA</th>\n",
              "      <td>6633</td>\n",
              "    </tr>\n",
              "    <tr>\n",
              "      <th>DESPOJO</th>\n",
              "      <td>6629</td>\n",
              "    </tr>\n",
              "    <tr>\n",
              "      <th>USURPACIÓN DE IDENTIDAD</th>\n",
              "      <td>6457</td>\n",
              "    </tr>\n",
              "  </tbody>\n",
              "</table>\n",
              "</div>"
            ],
            "text/plain": [
              "                                                    Cantidad\n",
              "Delito                                                      \n",
              "VIOLENCIA FAMILIAR                                     64264\n",
              "AMENAZAS                                               29745\n",
              "ROBO A NEGOCIO SIN VIOLENCIA                           25248\n",
              "FRAUDE                                                 24433\n",
              "ROBO A TRANSEUNTE EN VIA PUBLICA CON VIOLENCIA         23483\n",
              "ROBO DE OBJETOS                                        22964\n",
              "ROBO DE ACCESORIOS DE AUTO                             16731\n",
              "ROBO A NEGOCIO CON VIOLENCIA                           15695\n",
              "ROBO DE OBJETOS DEL INTERIOR DE UN VEHICULO            12827\n",
              "ROBO DE VEHICULO DE SERVICIO PARTICULAR SIN VIO...     12227\n",
              "NARCOMENUDEO POSESION SIMPLE                           10910\n",
              "ROBO A CASA HABITACION SIN VIOLENCIA                    9715\n",
              "ROBO A NEGOCIO SIN VIOLENCIA POR FARDEROS (TIEN...      8726\n",
              "PRODUCCIÓN, IMPRESIÓN, ENAJENACIÓN, DISTRIBUCIÓ...      8202\n",
              "ABUSO SEXUAL                                            7399\n",
              "DAÑO EN PROPIEDAD AJENA CULPOSA POR TRÁNSITO VE...      6724\n",
              "ABUSO DE CONFIANZA                                      6677\n",
              "ROBO A PASAJERO / CONDUCTOR DE VEHICULO CON VIO...      6633\n",
              "DESPOJO                                                 6629\n",
              "USURPACIÓN DE IDENTIDAD                                 6457"
            ]
          },
          "metadata": {
            "tags": []
          },
          "execution_count": 16
        }
      ]
    },
    {
      "cell_type": "code",
      "metadata": {
        "colab": {
          "base_uri": "https://localhost:8080/",
          "height": 693
        },
        "id": "kn1dis2-e9TX",
        "outputId": "7bc76b70-9eb5-42b1-dfd1-9082892e0e67"
      },
      "source": [
        "fig, ax = plt.subplots(figsize=(10, 10))\n",
        "ax.set_title('Top 20 Delitos más denunciados de enero 2019 a junio 2021')\n",
        "sns.barplot(top20_delitos['Cantidad'], top20_delitos.index, ax=ax)\n",
        "ax.set(xlabel='Cantidad', ylabel='Delito')"
      ],
      "execution_count": null,
      "outputs": [
        {
          "output_type": "stream",
          "text": [
            "/usr/local/lib/python3.7/dist-packages/seaborn/_decorators.py:43: FutureWarning: Pass the following variables as keyword args: x, y. From version 0.12, the only valid positional argument will be `data`, and passing other arguments without an explicit keyword will result in an error or misinterpretation.\n",
            "  FutureWarning\n"
          ],
          "name": "stderr"
        },
        {
          "output_type": "execute_result",
          "data": {
            "text/plain": [
              "[Text(0, 0.5, 'Delito'), Text(0.5, 0, 'Cantidad')]"
            ]
          },
          "metadata": {
            "tags": []
          },
          "execution_count": 17
        },
        {
          "output_type": "display_data",
          "data": {
            "image/png": "[encoded data removed]",
            "text/plain": [
              "<Figure size 720x720 with 1 Axes>"
            ]
          },
          "metadata": {
            "tags": [],
            "needs_background": "light"
          }
        }
      ]
    },
    {
      "cell_type": "code",
      "metadata": {
        "colab": {
          "base_uri": "https://localhost:8080/",
          "height": 708
        },
        "id": "WtqSAAAcesoS",
        "outputId": "0a47dfad-cc37-412b-896d-174d7c479e6a"
      },
      "source": [
        "# Ahora se obtendrán los 20 delitos menos comunes, para esto se ordenan de manera ascendente y se toman los primeros 20.\n",
        "top20_menos_delitos = num_delitos.sort_values(ascending=True).head(20)\n",
        "top20_menos_delitos = pd.DataFrame(top20_menos_delitos).rename(columns={0:\"Cantidad\"})\n",
        "top20_menos_delitos"
      ],
      "execution_count": null,
      "outputs": [
        {
          "output_type": "execute_result",
          "data": {
            "text/html": [
              "<div>\n",
              "<style scoped>\n",
              "    .dataframe tbody tr th:only-of-type {\n",
              "        vertical-align: middle;\n",
              "    }\n",
              "\n",
              "    .dataframe tbody tr th {\n",
              "        vertical-align: top;\n",
              "    }\n",
              "\n",
              "    .dataframe thead th {\n",
              "        text-align: right;\n",
              "    }\n",
              "</style>\n",
              "<table border=\"1\" class=\"dataframe\">\n",
              "  <thead>\n",
              "    <tr style=\"text-align: right;\">\n",
              "      <th></th>\n",
              "      <th>Cantidad</th>\n",
              "    </tr>\n",
              "    <tr>\n",
              "      <th>Delito</th>\n",
              "      <th></th>\n",
              "    </tr>\n",
              "  </thead>\n",
              "  <tbody>\n",
              "    <tr>\n",
              "      <th>INCESTO</th>\n",
              "      <td>1</td>\n",
              "    </tr>\n",
              "    <tr>\n",
              "      <th>PERDIDA DE LA VIDA POR ENVENENAMIENTO</th>\n",
              "      <td>1</td>\n",
              "    </tr>\n",
              "    <tr>\n",
              "      <th>VIOLACION Y ROBO DE VEHICULO</th>\n",
              "      <td>1</td>\n",
              "    </tr>\n",
              "    <tr>\n",
              "      <th>EXPOSICION DE MENORES</th>\n",
              "      <td>1</td>\n",
              "    </tr>\n",
              "    <tr>\n",
              "      <th>DDH INCOMPETENCIA</th>\n",
              "      <td>1</td>\n",
              "    </tr>\n",
              "    <tr>\n",
              "      <th>PROCREACION ASISTIDA, INSEMINACION ARTIFICIAL Y ESTERILIZACION FORZADA</th>\n",
              "      <td>1</td>\n",
              "    </tr>\n",
              "    <tr>\n",
              "      <th>HOMICIDIO CULPOSO FUERA DEL D.F (ATROPELLADO)</th>\n",
              "      <td>1</td>\n",
              "    </tr>\n",
              "    <tr>\n",
              "      <th>HOMICIDIO CULPOSO FUERA DEL D.F (COLISION)</th>\n",
              "      <td>1</td>\n",
              "    </tr>\n",
              "    <tr>\n",
              "      <th>HOMICIDIO CULPOSO POR INSTRUMENTO PUNZO CORTANTE</th>\n",
              "      <td>1</td>\n",
              "    </tr>\n",
              "    <tr>\n",
              "      <th>EJERCICIO INDEBIDO DEL PROPIO DER.</th>\n",
              "      <td>1</td>\n",
              "    </tr>\n",
              "    <tr>\n",
              "      <th>ROBO DE INFANTE</th>\n",
              "      <td>1</td>\n",
              "    </tr>\n",
              "    <tr>\n",
              "      <th>VIOLACION A LOS DERECHOS HUMANOS</th>\n",
              "      <td>1</td>\n",
              "    </tr>\n",
              "    <tr>\n",
              "      <th>CONTAGIO VENERERO</th>\n",
              "      <td>1</td>\n",
              "    </tr>\n",
              "    <tr>\n",
              "      <th>CONCUSION</th>\n",
              "      <td>1</td>\n",
              "    </tr>\n",
              "    <tr>\n",
              "      <th>DIFAMACION</th>\n",
              "      <td>1</td>\n",
              "    </tr>\n",
              "    <tr>\n",
              "      <th>ROBO A PASAJERO EN ECOBUS CON VIOLENCIA</th>\n",
              "      <td>1</td>\n",
              "    </tr>\n",
              "    <tr>\n",
              "      <th>VIOLACION TUMULTUARIA EQUIPARADA POR CONOCIDO</th>\n",
              "      <td>1</td>\n",
              "    </tr>\n",
              "    <tr>\n",
              "      <th>LESIONES INTENCIONALES Y ROBO DE VEHICULO</th>\n",
              "      <td>1</td>\n",
              "    </tr>\n",
              "    <tr>\n",
              "      <th>ROBO A PASAJERO EN TREN SUBURBANO CON VIOLENCIA</th>\n",
              "      <td>1</td>\n",
              "    </tr>\n",
              "    <tr>\n",
              "      <th>COALICIÓN DE SERVIDORES PÚBLICOS</th>\n",
              "      <td>2</td>\n",
              "    </tr>\n",
              "  </tbody>\n",
              "</table>\n",
              "</div>"
            ],
            "text/plain": [
              "                                                    Cantidad\n",
              "Delito                                                      \n",
              "INCESTO                                                    1\n",
              "PERDIDA DE LA VIDA POR ENVENENAMIENTO                      1\n",
              "VIOLACION Y ROBO DE VEHICULO                               1\n",
              "EXPOSICION DE MENORES                                      1\n",
              "DDH INCOMPETENCIA                                          1\n",
              "PROCREACION ASISTIDA, INSEMINACION ARTIFICIAL Y...         1\n",
              "HOMICIDIO CULPOSO FUERA DEL D.F (ATROPELLADO)              1\n",
              "HOMICIDIO CULPOSO FUERA DEL D.F (COLISION)                 1\n",
              "HOMICIDIO CULPOSO POR INSTRUMENTO PUNZO CORTANTE           1\n",
              "EJERCICIO INDEBIDO DEL PROPIO DER.                         1\n",
              "ROBO DE INFANTE                                            1\n",
              "VIOLACION A LOS DERECHOS HUMANOS                           1\n",
              "CONTAGIO VENERERO                                          1\n",
              "CONCUSION                                                  1\n",
              "DIFAMACION                                                 1\n",
              "ROBO A PASAJERO EN ECOBUS CON VIOLENCIA                    1\n",
              "VIOLACION TUMULTUARIA EQUIPARADA POR CONOCIDO              1\n",
              "LESIONES INTENCIONALES Y ROBO DE VEHICULO                  1\n",
              "ROBO A PASAJERO EN TREN SUBURBANO CON VIOLENCIA            1\n",
              "COALICIÓN DE SERVIDORES PÚBLICOS                           2"
            ]
          },
          "metadata": {
            "tags": []
          },
          "execution_count": 18
        }
      ]
    },
    {
      "cell_type": "code",
      "metadata": {
        "colab": {
          "base_uri": "https://localhost:8080/",
          "height": 693
        },
        "id": "QgsnLUIBFJct",
        "outputId": "bbdb6c57-be57-4137-855e-f984108eb832"
      },
      "source": [
        "fig, ax = plt.subplots(figsize=(10, 10))\n",
        "ax.set_title('Top 20 Delitos menos denunciados de enero 2019 a junio 2021')\n",
        "sns.barplot(top20_menos_delitos['Cantidad'], top20_menos_delitos.index, ax=ax, palette=\"Set3\")\n",
        "ax.set(xlabel='Cantidad', ylabel='Delito')"
      ],
      "execution_count": null,
      "outputs": [
        {
          "output_type": "stream",
          "text": [
            "/usr/local/lib/python3.7/dist-packages/seaborn/_decorators.py:43: FutureWarning: Pass the following variables as keyword args: x, y. From version 0.12, the only valid positional argument will be `data`, and passing other arguments without an explicit keyword will result in an error or misinterpretation.\n",
            "  FutureWarning\n"
          ],
          "name": "stderr"
        },
        {
          "output_type": "execute_result",
          "data": {
            "text/plain": [
              "[Text(0, 0.5, 'Delito'), Text(0.5, 0, 'Cantidad')]"
            ]
          },
          "metadata": {
            "tags": []
          },
          "execution_count": 19
        },
        {
          "output_type": "display_data",
          "data": {
            "image/png": "[encoded data removed]",
            "text/plain": [
              "<Figure size 720x720 with 1 Axes>"
            ]
          },
          "metadata": {
            "tags": [],
            "needs_background": "light"
          }
        }
      ]
    },
    {
      "cell_type": "markdown",
      "metadata": {
        "id": "MpzdepgsfF8_"
      },
      "source": [
        "###Diferencia de tiempo entre el momento de los hechos y el momento de la denuncia."
      ]
    },
    {
      "cell_type": "code",
      "metadata": {
        "id": "DdSrKmlEfOKR",
        "colab": {
          "base_uri": "https://localhost:8080/",
          "height": 455
        },
        "outputId": "2763cfbc-f2f9-47b7-b5df-1f718badb6fe"
      },
      "source": [
        "# Se agrupan los datos por la columna Delito, de modo que se obtenga la cantidad de datos por cada categoría en la columna Delito.\n",
        "delitos_año = df_base.groupby(by=[\"AñoInicio\",\"Delito\"]).size()\n",
        "df_delitos_año = pd.DataFrame(delitos_año).rename(columns={0:\"Cantidad\"})\n",
        "df_delitos_año"
      ],
      "execution_count": null,
      "outputs": [
        {
          "output_type": "execute_result",
          "data": {
            "text/html": [
              "<div>\n",
              "<style scoped>\n",
              "    .dataframe tbody tr th:only-of-type {\n",
              "        vertical-align: middle;\n",
              "    }\n",
              "\n",
              "    .dataframe tbody tr th {\n",
              "        vertical-align: top;\n",
              "    }\n",
              "\n",
              "    .dataframe thead th {\n",
              "        text-align: right;\n",
              "    }\n",
              "</style>\n",
              "<table border=\"1\" class=\"dataframe\">\n",
              "  <thead>\n",
              "    <tr style=\"text-align: right;\">\n",
              "      <th></th>\n",
              "      <th></th>\n",
              "      <th>Cantidad</th>\n",
              "    </tr>\n",
              "    <tr>\n",
              "      <th>AñoInicio</th>\n",
              "      <th>Delito</th>\n",
              "      <th></th>\n",
              "    </tr>\n",
              "  </thead>\n",
              "  <tbody>\n",
              "    <tr>\n",
              "      <th rowspan=\"5\" valign=\"top\">2019</th>\n",
              "      <th>ABORTO</th>\n",
              "      <td>29</td>\n",
              "    </tr>\n",
              "    <tr>\n",
              "      <th>ABUSO DE AUTORIDAD Y USO ILEGAL DE LA FUERZA PUBLICA</th>\n",
              "      <td>1573</td>\n",
              "    </tr>\n",
              "    <tr>\n",
              "      <th>ABUSO DE CONFIANZA</th>\n",
              "      <td>2725</td>\n",
              "    </tr>\n",
              "    <tr>\n",
              "      <th>ABUSO SEXUAL</th>\n",
              "      <td>3164</td>\n",
              "    </tr>\n",
              "    <tr>\n",
              "      <th>ACOSO SEXUAL</th>\n",
              "      <td>695</td>\n",
              "    </tr>\n",
              "    <tr>\n",
              "      <th>...</th>\n",
              "      <th>...</th>\n",
              "      <td>...</td>\n",
              "    </tr>\n",
              "    <tr>\n",
              "      <th rowspan=\"5\" valign=\"top\">2021</th>\n",
              "      <th>VIOLACION EQUIPARADA Y ROBO DE VEHICULO</th>\n",
              "      <td>4</td>\n",
              "    </tr>\n",
              "    <tr>\n",
              "      <th>VIOLACION TUMULTUARIA</th>\n",
              "      <td>12</td>\n",
              "    </tr>\n",
              "    <tr>\n",
              "      <th>VIOLACION TUMULTUARIA EQUIPARADA</th>\n",
              "      <td>1</td>\n",
              "    </tr>\n",
              "    <tr>\n",
              "      <th>VIOLACION Y ROBO DE VEHICULO</th>\n",
              "      <td>1</td>\n",
              "    </tr>\n",
              "    <tr>\n",
              "      <th>VIOLENCIA FAMILIAR</th>\n",
              "      <td>15660</td>\n",
              "    </tr>\n",
              "  </tbody>\n",
              "</table>\n",
              "<p>781 rows × 1 columns</p>\n",
              "</div>"
            ],
            "text/plain": [
              "                                                              Cantidad\n",
              "AñoInicio Delito                                                      \n",
              "2019      ABORTO                                                    29\n",
              "          ABUSO DE AUTORIDAD Y USO ILEGAL DE LA FUERZA PU...      1573\n",
              "          ABUSO DE CONFIANZA                                      2725\n",
              "          ABUSO SEXUAL                                            3164\n",
              "          ACOSO SEXUAL                                             695\n",
              "...                                                                ...\n",
              "2021      VIOLACION EQUIPARADA Y ROBO DE VEHICULO                    4\n",
              "          VIOLACION TUMULTUARIA                                     12\n",
              "          VIOLACION TUMULTUARIA EQUIPARADA                           1\n",
              "          VIOLACION Y ROBO DE VEHICULO                               1\n",
              "          VIOLENCIA FAMILIAR                                     15660\n",
              "\n",
              "[781 rows x 1 columns]"
            ]
          },
          "metadata": {
            "tags": []
          },
          "execution_count": 20
        }
      ]
    },
    {
      "cell_type": "code",
      "metadata": {
        "id": "KZ8G29EIfTMq",
        "colab": {
          "base_uri": "https://localhost:8080/",
          "height": 487
        },
        "outputId": "57534538-4058-410a-c942-d9f929cb57d7"
      },
      "source": [
        "# Después se crea una columna que calcula la diferencia entre la fecha que se hizo la denuncia (FechaInicio) y la fecha que se cometió el delito (FechaHecho).\n",
        "# Esto se puede considerar como el tiempo que tarda una persona en realizar la denuncia por un delito.\n",
        "df_base[\"IntervaloTiempo_denuncia\"] = df_base[\"FechaInicio\"] - df_base[\"FechaHecho\"]\n",
        "df_base.head()"
      ],
      "execution_count": null,
      "outputs": [
        {
          "output_type": "execute_result",
          "data": {
            "text/html": [
              "<div>\n",
              "<style scoped>\n",
              "    .dataframe tbody tr th:only-of-type {\n",
              "        vertical-align: middle;\n",
              "    }\n",
              "\n",
              "    .dataframe tbody tr th {\n",
              "        vertical-align: top;\n",
              "    }\n",
              "\n",
              "    .dataframe thead th {\n",
              "        text-align: right;\n",
              "    }\n",
              "</style>\n",
              "<table border=\"1\" class=\"dataframe\">\n",
              "  <thead>\n",
              "    <tr style=\"text-align: right;\">\n",
              "      <th></th>\n",
              "      <th>idCarpeta</th>\n",
              "      <th>AñoInicio</th>\n",
              "      <th>MesInicio</th>\n",
              "      <th>FechaInicio</th>\n",
              "      <th>Delito</th>\n",
              "      <th>Categoria</th>\n",
              "      <th>Sexo</th>\n",
              "      <th>Edad</th>\n",
              "      <th>TipoPersona</th>\n",
              "      <th>CalidadJuridica</th>\n",
              "      <th>Competencia</th>\n",
              "      <th>AñoHecho</th>\n",
              "      <th>MesHecho</th>\n",
              "      <th>FechaHecho</th>\n",
              "      <th>HoraHecho</th>\n",
              "      <th>HoraInicio</th>\n",
              "      <th>AlcaldiaHechos</th>\n",
              "      <th>ColoniaHechos</th>\n",
              "      <th>CalleHechos</th>\n",
              "      <th>Latitud</th>\n",
              "      <th>Longitud</th>\n",
              "      <th>IntervaloTiempo_denuncia</th>\n",
              "    </tr>\n",
              "  </thead>\n",
              "  <tbody>\n",
              "    <tr>\n",
              "      <th>0</th>\n",
              "      <td>8324429</td>\n",
              "      <td>2019</td>\n",
              "      <td>Enero</td>\n",
              "      <td>2019-01-04 12:19:00</td>\n",
              "      <td>FRAUDE</td>\n",
              "      <td>DELITO DE BAJO IMPACTO</td>\n",
              "      <td>Masculino</td>\n",
              "      <td>62</td>\n",
              "      <td>FISICA</td>\n",
              "      <td>OFENDIDO</td>\n",
              "      <td>FUERO COMUN</td>\n",
              "      <td>2018</td>\n",
              "      <td>Agosto</td>\n",
              "      <td>2018-08-29 12:00:00</td>\n",
              "      <td>12:00:00</td>\n",
              "      <td>12:19:00</td>\n",
              "      <td>ALVARO OBREGON</td>\n",
              "      <td>GUADALUPE INN</td>\n",
              "      <td>INSUGENTES SUR</td>\n",
              "      <td>19.36125</td>\n",
              "      <td>-99.18314</td>\n",
              "      <td>128 days 00:19:00</td>\n",
              "    </tr>\n",
              "    <tr>\n",
              "      <th>1</th>\n",
              "      <td>8324430</td>\n",
              "      <td>2019</td>\n",
              "      <td>Enero</td>\n",
              "      <td>2019-01-04 12:20:00</td>\n",
              "      <td>PRODUCCIÓN, IMPRESIÓN, ENAJENACIÓN, DISTRIBUCI...</td>\n",
              "      <td>DELITO DE BAJO IMPACTO</td>\n",
              "      <td>Femenino</td>\n",
              "      <td>38</td>\n",
              "      <td>FISICA</td>\n",
              "      <td>VICTIMA Y DENUNCIANTE</td>\n",
              "      <td>FUERO COMUN</td>\n",
              "      <td>2018</td>\n",
              "      <td>Diciembre</td>\n",
              "      <td>2018-12-15 15:00:00</td>\n",
              "      <td>15:00:00</td>\n",
              "      <td>12:20:00</td>\n",
              "      <td>AZCAPOTZALCO</td>\n",
              "      <td>VICTORIA DE LAS DEMOCRACIAS</td>\n",
              "      <td>AV.  CUATLAHUAC</td>\n",
              "      <td>19.47181</td>\n",
              "      <td>-99.16458</td>\n",
              "      <td>19 days 21:20:00</td>\n",
              "    </tr>\n",
              "    <tr>\n",
              "      <th>2</th>\n",
              "      <td>8324431</td>\n",
              "      <td>2019</td>\n",
              "      <td>Enero</td>\n",
              "      <td>2019-01-04 12:23:00</td>\n",
              "      <td>ROBO A TRANSEUNTE SALIENDO DEL BANCO CON VIOLE...</td>\n",
              "      <td>ROBO A CUENTAHABIENTE SALIENDO DEL CAJERO CON ...</td>\n",
              "      <td>Masculino</td>\n",
              "      <td>42</td>\n",
              "      <td>FISICA</td>\n",
              "      <td>VICTIMA Y DENUNCIANTE</td>\n",
              "      <td>FUERO COMUN</td>\n",
              "      <td>2018</td>\n",
              "      <td>Diciembre</td>\n",
              "      <td>2018-12-22 15:30:00</td>\n",
              "      <td>15:30:00</td>\n",
              "      <td>12:23:00</td>\n",
              "      <td>COYOACAN</td>\n",
              "      <td>COPILCO UNIVERSIDAD ISSSTE</td>\n",
              "      <td>COPILCO</td>\n",
              "      <td>19.33797</td>\n",
              "      <td>-99.18611</td>\n",
              "      <td>12 days 20:53:00</td>\n",
              "    </tr>\n",
              "    <tr>\n",
              "      <th>3</th>\n",
              "      <td>8324435</td>\n",
              "      <td>2019</td>\n",
              "      <td>Enero</td>\n",
              "      <td>2019-01-04 12:27:00</td>\n",
              "      <td>ROBO DE VEHICULO DE SERVICIO PARTICULAR SIN VI...</td>\n",
              "      <td>ROBO DE VEHÍCULO CON Y SIN VIOLENCIA</td>\n",
              "      <td>Masculino</td>\n",
              "      <td>35</td>\n",
              "      <td>FISICA</td>\n",
              "      <td>VICTIMA Y DENUNCIANTE</td>\n",
              "      <td>FUERO COMUN</td>\n",
              "      <td>2019</td>\n",
              "      <td>Enero</td>\n",
              "      <td>2019-01-04 06:00:00</td>\n",
              "      <td>06:00:00</td>\n",
              "      <td>12:27:00</td>\n",
              "      <td>IZTACALCO</td>\n",
              "      <td>AGRÍCOLA PANTITLAN</td>\n",
              "      <td>CALLE 6</td>\n",
              "      <td>19.40327</td>\n",
              "      <td>-99.05983</td>\n",
              "      <td>0 days 06:27:00</td>\n",
              "    </tr>\n",
              "    <tr>\n",
              "      <th>4</th>\n",
              "      <td>8324442</td>\n",
              "      <td>2019</td>\n",
              "      <td>Enero</td>\n",
              "      <td>2019-01-04 12:38:00</td>\n",
              "      <td>PRODUCCIÓN, IMPRESIÓN, ENAJENACIÓN, DISTRIBUCI...</td>\n",
              "      <td>DELITO DE BAJO IMPACTO</td>\n",
              "      <td>Femenino</td>\n",
              "      <td>42</td>\n",
              "      <td>FISICA</td>\n",
              "      <td>OFENDIDO</td>\n",
              "      <td>FUERO COMUN</td>\n",
              "      <td>2018</td>\n",
              "      <td>Octubre</td>\n",
              "      <td>2018-10-12 18:00:00</td>\n",
              "      <td>18:00:00</td>\n",
              "      <td>12:38:00</td>\n",
              "      <td>COYOACAN</td>\n",
              "      <td>PUEBLO DE LOS REYES</td>\n",
              "      <td>PEDRO ENRIQUEZ UREÑA</td>\n",
              "      <td>19.33537</td>\n",
              "      <td>-99.16016</td>\n",
              "      <td>83 days 18:38:00</td>\n",
              "    </tr>\n",
              "  </tbody>\n",
              "</table>\n",
              "</div>"
            ],
            "text/plain": [
              "   idCarpeta  AñoInicio MesInicio  ...   Latitud  Longitud IntervaloTiempo_denuncia\n",
              "0    8324429       2019     Enero  ...  19.36125 -99.18314        128 days 00:19:00\n",
              "1    8324430       2019     Enero  ...  19.47181 -99.16458         19 days 21:20:00\n",
              "2    8324431       2019     Enero  ...  19.33797 -99.18611         12 days 20:53:00\n",
              "3    8324435       2019     Enero  ...  19.40327 -99.05983          0 days 06:27:00\n",
              "4    8324442       2019     Enero  ...  19.33537 -99.16016         83 days 18:38:00\n",
              "\n",
              "[5 rows x 22 columns]"
            ]
          },
          "metadata": {
            "tags": []
          },
          "execution_count": 21
        }
      ]
    },
    {
      "cell_type": "markdown",
      "metadata": {
        "id": "0Tk_ZJFXHe2O"
      },
      "source": [
        "Se puede explorar los datos y notar que hay intervalos de tiempo en que se hace la denuncia."
      ]
    },
    {
      "cell_type": "code",
      "metadata": {
        "colab": {
          "base_uri": "https://localhost:8080/",
          "height": 843
        },
        "id": "y3dv8cJPISuw",
        "outputId": "e7cd31b0-69dc-4686-c414-96d5a2417346"
      },
      "source": [
        "# Se filtran los datos para ver los registros de intervalos de tiempo\n",
        "df_base[df_base[\"IntervaloTiempo_denuncia\"] < pd.Timedelta(0)]"
      ],
      "execution_count": null,
      "outputs": [
        {
          "output_type": "execute_result",
          "data": {
            "text/html": [
              "<div>\n",
              "<style scoped>\n",
              "    .dataframe tbody tr th:only-of-type {\n",
              "        vertical-align: middle;\n",
              "    }\n",
              "\n",
              "    .dataframe tbody tr th {\n",
              "        vertical-align: top;\n",
              "    }\n",
              "\n",
              "    .dataframe thead th {\n",
              "        text-align: right;\n",
              "    }\n",
              "</style>\n",
              "<table border=\"1\" class=\"dataframe\">\n",
              "  <thead>\n",
              "    <tr style=\"text-align: right;\">\n",
              "      <th></th>\n",
              "      <th>idCarpeta</th>\n",
              "      <th>AñoInicio</th>\n",
              "      <th>MesInicio</th>\n",
              "      <th>FechaInicio</th>\n",
              "      <th>Delito</th>\n",
              "      <th>Categoria</th>\n",
              "      <th>Sexo</th>\n",
              "      <th>Edad</th>\n",
              "      <th>TipoPersona</th>\n",
              "      <th>CalidadJuridica</th>\n",
              "      <th>Competencia</th>\n",
              "      <th>AñoHecho</th>\n",
              "      <th>MesHecho</th>\n",
              "      <th>FechaHecho</th>\n",
              "      <th>HoraHecho</th>\n",
              "      <th>HoraInicio</th>\n",
              "      <th>AlcaldiaHechos</th>\n",
              "      <th>ColoniaHechos</th>\n",
              "      <th>CalleHechos</th>\n",
              "      <th>Latitud</th>\n",
              "      <th>Longitud</th>\n",
              "      <th>IntervaloTiempo_denuncia</th>\n",
              "    </tr>\n",
              "  </thead>\n",
              "  <tbody>\n",
              "    <tr>\n",
              "      <th>231</th>\n",
              "      <td>8325324</td>\n",
              "      <td>2019</td>\n",
              "      <td>Enero</td>\n",
              "      <td>2019-01-05 15:07:00</td>\n",
              "      <td>NARCOMENUDEO POSESION SIMPLE</td>\n",
              "      <td>DELITO DE BAJO IMPACTO</td>\n",
              "      <td>No aplica</td>\n",
              "      <td>No aplica</td>\n",
              "      <td>MORAL</td>\n",
              "      <td>VICTIMA</td>\n",
              "      <td>FUERO COMUN</td>\n",
              "      <td>2019</td>\n",
              "      <td>Enero</td>\n",
              "      <td>2019-01-05 16:00:00</td>\n",
              "      <td>16:00:00</td>\n",
              "      <td>15:07:00</td>\n",
              "      <td>VENUSTIANO CARRANZA</td>\n",
              "      <td>ARENAL 4A SECCIÓN</td>\n",
              "      <td>CALLE 1</td>\n",
              "      <td>19.431600</td>\n",
              "      <td>-99.059530</td>\n",
              "      <td>-1 days +23:07:00</td>\n",
              "    </tr>\n",
              "    <tr>\n",
              "      <th>664</th>\n",
              "      <td>8326921</td>\n",
              "      <td>2019</td>\n",
              "      <td>Enero</td>\n",
              "      <td>2019-01-08 09:23:00</td>\n",
              "      <td>VIOLENCIA FAMILIAR</td>\n",
              "      <td>DELITO DE BAJO IMPACTO</td>\n",
              "      <td>Femenino</td>\n",
              "      <td>78</td>\n",
              "      <td>FISICA</td>\n",
              "      <td>VICTIMA Y DENUNCIANTE</td>\n",
              "      <td>FUERO COMUN</td>\n",
              "      <td>2019</td>\n",
              "      <td>Enero</td>\n",
              "      <td>2019-01-08 09:34:00</td>\n",
              "      <td>09:34:00</td>\n",
              "      <td>09:23:00</td>\n",
              "      <td>GUSTAVO A MADERO</td>\n",
              "      <td>SANTIAGO ATZACOALCO</td>\n",
              "      <td>CABO FINISTERRE</td>\n",
              "      <td>19.494210</td>\n",
              "      <td>-99.100140</td>\n",
              "      <td>-1 days +23:49:00</td>\n",
              "    </tr>\n",
              "    <tr>\n",
              "      <th>1235</th>\n",
              "      <td>8329147</td>\n",
              "      <td>2019</td>\n",
              "      <td>Enero</td>\n",
              "      <td>2019-01-10 17:28:00</td>\n",
              "      <td>LESIONES CULPOSAS POR CAIDA</td>\n",
              "      <td>DELITO DE BAJO IMPACTO</td>\n",
              "      <td>Femenino</td>\n",
              "      <td>42</td>\n",
              "      <td>FISICA</td>\n",
              "      <td>VICTIMA Y DENUNCIANTE</td>\n",
              "      <td>FUERO COMUN</td>\n",
              "      <td>2019</td>\n",
              "      <td>Enero</td>\n",
              "      <td>2019-01-10 17:33:00</td>\n",
              "      <td>17:33:00</td>\n",
              "      <td>17:28:00</td>\n",
              "      <td>CUAUHTEMOC</td>\n",
              "      <td>CENTRO</td>\n",
              "      <td>DEL CARMEN</td>\n",
              "      <td>19.437140</td>\n",
              "      <td>-99.129400</td>\n",
              "      <td>-1 days +23:55:00</td>\n",
              "    </tr>\n",
              "    <tr>\n",
              "      <th>1463</th>\n",
              "      <td>8329975</td>\n",
              "      <td>2019</td>\n",
              "      <td>Enero</td>\n",
              "      <td>2019-01-11 17:13:00</td>\n",
              "      <td>PERDIDA DE LA VIDA POR OTRAS CAUSAS</td>\n",
              "      <td>HECHO NO DELICTIVO</td>\n",
              "      <td>Masculino</td>\n",
              "      <td>60</td>\n",
              "      <td>FISICA</td>\n",
              "      <td>CADAVER</td>\n",
              "      <td>HECHOS NO DELICTIVOS</td>\n",
              "      <td>2019</td>\n",
              "      <td>Enero</td>\n",
              "      <td>2019-01-11 17:15:00</td>\n",
              "      <td>17:15:00</td>\n",
              "      <td>17:13:00</td>\n",
              "      <td>CUAUHTEMOC</td>\n",
              "      <td>CENTRO</td>\n",
              "      <td>EL CARMEN</td>\n",
              "      <td>19.437700</td>\n",
              "      <td>-99.129570</td>\n",
              "      <td>-1 days +23:58:00</td>\n",
              "    </tr>\n",
              "    <tr>\n",
              "      <th>1830</th>\n",
              "      <td>8331397</td>\n",
              "      <td>2019</td>\n",
              "      <td>Enero</td>\n",
              "      <td>2019-01-14 09:09:00</td>\n",
              "      <td>PERDIDA DE LA VIDA POR OTRAS CAUSAS</td>\n",
              "      <td>HECHO NO DELICTIVO</td>\n",
              "      <td>Masculino</td>\n",
              "      <td>65</td>\n",
              "      <td>FISICA</td>\n",
              "      <td>CADAVER</td>\n",
              "      <td>HECHOS NO DELICTIVOS</td>\n",
              "      <td>2019</td>\n",
              "      <td>Enero</td>\n",
              "      <td>2019-01-14 09:10:00</td>\n",
              "      <td>09:10:00</td>\n",
              "      <td>09:09:00</td>\n",
              "      <td>XOCHIMILCO</td>\n",
              "      <td>CALTONGO</td>\n",
              "      <td>AV. NUEVO LEON</td>\n",
              "      <td>19.258280</td>\n",
              "      <td>-99.081810</td>\n",
              "      <td>-1 days +23:59:00</td>\n",
              "    </tr>\n",
              "    <tr>\n",
              "      <th>...</th>\n",
              "      <td>...</td>\n",
              "      <td>...</td>\n",
              "      <td>...</td>\n",
              "      <td>...</td>\n",
              "      <td>...</td>\n",
              "      <td>...</td>\n",
              "      <td>...</td>\n",
              "      <td>...</td>\n",
              "      <td>...</td>\n",
              "      <td>...</td>\n",
              "      <td>...</td>\n",
              "      <td>...</td>\n",
              "      <td>...</td>\n",
              "      <td>...</td>\n",
              "      <td>...</td>\n",
              "      <td>...</td>\n",
              "      <td>...</td>\n",
              "      <td>...</td>\n",
              "      <td>...</td>\n",
              "      <td>...</td>\n",
              "      <td>...</td>\n",
              "      <td>...</td>\n",
              "    </tr>\n",
              "    <tr>\n",
              "      <th>473116</th>\n",
              "      <td>8961651</td>\n",
              "      <td>2021</td>\n",
              "      <td>Junio</td>\n",
              "      <td>2021-06-29 07:12:00</td>\n",
              "      <td>ROBO DE OBJETOS</td>\n",
              "      <td>DELITO DE BAJO IMPACTO</td>\n",
              "      <td>No aplica</td>\n",
              "      <td>No aplica</td>\n",
              "      <td>MORAL</td>\n",
              "      <td>OFENDIDO</td>\n",
              "      <td>FUERO COMUN</td>\n",
              "      <td>2021</td>\n",
              "      <td>Junio</td>\n",
              "      <td>2021-06-29 08:00:00</td>\n",
              "      <td>08:00:00</td>\n",
              "      <td>07:12:00</td>\n",
              "      <td>GUSTAVO A MADERO</td>\n",
              "      <td>GRANJAS MODERNAS</td>\n",
              "      <td>CALZADA SAN JUAN DE ARAGON</td>\n",
              "      <td>19.480865</td>\n",
              "      <td>-99.103008</td>\n",
              "      <td>-1 days +23:12:00</td>\n",
              "    </tr>\n",
              "    <tr>\n",
              "      <th>473354</th>\n",
              "      <td>8962002</td>\n",
              "      <td>2021</td>\n",
              "      <td>Junio</td>\n",
              "      <td>2021-06-29 15:59:00</td>\n",
              "      <td>VIOLENCIA FAMILIAR</td>\n",
              "      <td>DELITO DE BAJO IMPACTO</td>\n",
              "      <td>Femenino</td>\n",
              "      <td>77</td>\n",
              "      <td>FISICA</td>\n",
              "      <td>VICTIMA</td>\n",
              "      <td>FUERO COMUN</td>\n",
              "      <td>2021</td>\n",
              "      <td>Junio</td>\n",
              "      <td>2021-06-29 16:23:00</td>\n",
              "      <td>16:23:00</td>\n",
              "      <td>15:59:00</td>\n",
              "      <td>GUSTAVO A MADERO</td>\n",
              "      <td>SAN PEDRO ZACATENCO</td>\n",
              "      <td>VILLA RICA</td>\n",
              "      <td>19.507929</td>\n",
              "      <td>-99.124638</td>\n",
              "      <td>-1 days +23:36:00</td>\n",
              "    </tr>\n",
              "    <tr>\n",
              "      <th>473927</th>\n",
              "      <td>8962829</td>\n",
              "      <td>2021</td>\n",
              "      <td>Junio</td>\n",
              "      <td>2021-06-30 15:48:00</td>\n",
              "      <td>AMENAZAS</td>\n",
              "      <td>DELITO DE BAJO IMPACTO</td>\n",
              "      <td>Femenino</td>\n",
              "      <td>37</td>\n",
              "      <td>FISICA</td>\n",
              "      <td>VICTIMA Y DENUNCIANTE</td>\n",
              "      <td>FUERO COMUN</td>\n",
              "      <td>2021</td>\n",
              "      <td>Junio</td>\n",
              "      <td>2021-06-30 16:00:00</td>\n",
              "      <td>16:00:00</td>\n",
              "      <td>15:48:00</td>\n",
              "      <td>GUSTAVO A MADERO</td>\n",
              "      <td>SAN JUAN DE ARAGÓN III SECCIÓN</td>\n",
              "      <td>AV. 587</td>\n",
              "      <td>19.453370</td>\n",
              "      <td>-99.074502</td>\n",
              "      <td>-1 days +23:48:00</td>\n",
              "    </tr>\n",
              "    <tr>\n",
              "      <th>473950</th>\n",
              "      <td>8962859</td>\n",
              "      <td>2021</td>\n",
              "      <td>Junio</td>\n",
              "      <td>2021-06-30 16:23:00</td>\n",
              "      <td>CONTRA EL CUMPLIMIENTO DE LA OBLIGACION ALIMEN...</td>\n",
              "      <td>DELITO DE BAJO IMPACTO</td>\n",
              "      <td>Femenino</td>\n",
              "      <td>22</td>\n",
              "      <td>FISICA</td>\n",
              "      <td>VICTIMA Y DENUNCIANTE</td>\n",
              "      <td>FUERO COMUN</td>\n",
              "      <td>2021</td>\n",
              "      <td>Junio</td>\n",
              "      <td>2021-06-30 16:55:00</td>\n",
              "      <td>16:55:00</td>\n",
              "      <td>16:23:00</td>\n",
              "      <td>CUAUHTEMOC</td>\n",
              "      <td>CENTRO</td>\n",
              "      <td>AVENIDA JUAREZ</td>\n",
              "      <td>19.434208</td>\n",
              "      <td>-99.141355</td>\n",
              "      <td>-1 days +23:28:00</td>\n",
              "    </tr>\n",
              "    <tr>\n",
              "      <th>474043</th>\n",
              "      <td>8962985</td>\n",
              "      <td>2021</td>\n",
              "      <td>Junio</td>\n",
              "      <td>2021-06-30 18:46:00</td>\n",
              "      <td>NARCOMENUDEO POSESIÓN CON FINES DE VENTA, COME...</td>\n",
              "      <td>DELITO DE BAJO IMPACTO</td>\n",
              "      <td>No aplica</td>\n",
              "      <td>No aplica</td>\n",
              "      <td>MORAL</td>\n",
              "      <td>OFENDIDO</td>\n",
              "      <td>FUERO COMUN</td>\n",
              "      <td>2021</td>\n",
              "      <td>Junio</td>\n",
              "      <td>2021-06-30 18:50:00</td>\n",
              "      <td>18:50:00</td>\n",
              "      <td>18:46:00</td>\n",
              "      <td>TLAHUAC</td>\n",
              "      <td>DR. FRANCISCO CABRERA</td>\n",
              "      <td>CERRADA DE EMILIANO ZAPATA</td>\n",
              "      <td>19.297073</td>\n",
              "      <td>-99.061248</td>\n",
              "      <td>-1 days +23:56:00</td>\n",
              "    </tr>\n",
              "  </tbody>\n",
              "</table>\n",
              "<p>1906 rows × 22 columns</p>\n",
              "</div>"
            ],
            "text/plain": [
              "        idCarpeta  AñoInicio  ...   Longitud IntervaloTiempo_denuncia\n",
              "231       8325324       2019  ... -99.059530        -1 days +23:07:00\n",
              "664       8326921       2019  ... -99.100140        -1 days +23:49:00\n",
              "1235      8329147       2019  ... -99.129400        -1 days +23:55:00\n",
              "1463      8329975       2019  ... -99.129570        -1 days +23:58:00\n",
              "1830      8331397       2019  ... -99.081810        -1 days +23:59:00\n",
              "...           ...        ...  ...        ...                      ...\n",
              "473116    8961651       2021  ... -99.103008        -1 days +23:12:00\n",
              "473354    8962002       2021  ... -99.124638        -1 days +23:36:00\n",
              "473927    8962829       2021  ... -99.074502        -1 days +23:48:00\n",
              "473950    8962859       2021  ... -99.141355        -1 days +23:28:00\n",
              "474043    8962985       2021  ... -99.061248        -1 days +23:56:00\n",
              "\n",
              "[1906 rows x 22 columns]"
            ]
          },
          "metadata": {
            "tags": []
          },
          "execution_count": 22
        }
      ]
    },
    {
      "cell_type": "code",
      "metadata": {
        "colab": {
          "base_uri": "https://localhost:8080/"
        },
        "id": "DyjVX5NDfjih",
        "outputId": "9410726f-ddbb-4bab-9f8b-651e6342cad2"
      },
      "source": [
        "# Por lo anterior, se calcula el tiempo promedio de denuncia consierando intervalos de tiempo negativos\n",
        "promedio_tiempo_denuncia = df_base[\"IntervaloTiempo_denuncia\"].mean()\n",
        "promedio_tiempo_denuncia"
      ],
      "execution_count": null,
      "outputs": [
        {
          "output_type": "execute_result",
          "data": {
            "text/plain": [
              "Timedelta('33 days 17:14:43.051999809')"
            ]
          },
          "metadata": {
            "tags": []
          },
          "execution_count": 23
        }
      ]
    },
    {
      "cell_type": "code",
      "metadata": {
        "colab": {
          "base_uri": "https://localhost:8080/"
        },
        "id": "v0MZmVvOfxsb",
        "outputId": "5202a60e-42fc-43dd-aa56-7fd65cac2ba3"
      },
      "source": [
        "# Y después se calcula el tiempo promedio de denuncia sin considerar intervalos de tiempo negativos\n",
        "df_base[df_base[\"IntervaloTiempo_denuncia\"] > pd.Timedelta(0)][\"IntervaloTiempo_denuncia\"].mean()"
      ],
      "execution_count": null,
      "outputs": [
        {
          "output_type": "execute_result",
          "data": {
            "text/plain": [
              "Timedelta('33 days 20:38:14.729374029')"
            ]
          },
          "metadata": {
            "tags": []
          },
          "execution_count": 24
        }
      ]
    },
    {
      "cell_type": "markdown",
      "metadata": {
        "id": "6r-4iArtI9Bb"
      },
      "source": [
        "Se puede notar que no hay una diferencia significativa del orden de días en los resultados anteriores."
      ]
    },
    {
      "cell_type": "markdown",
      "metadata": {
        "id": "JRsx48jnf5DJ"
      },
      "source": [
        "###¿Cuáles son los lugares con mayor/menor incidencia de delitos?"
      ]
    },
    {
      "cell_type": "code",
      "metadata": {
        "colab": {
          "base_uri": "https://localhost:8080/",
          "height": 583
        },
        "id": "yANNRn-Xf-eB",
        "outputId": "e062d8e5-7adf-411b-cfb3-7cfda0f55a2f"
      },
      "source": [
        "# Primero, se agrupan los datos por la columna \"AlcaldiaHechos\" y se cuentan.\n",
        "num_denuncias_alcaldia = df_base.groupby(by=\"AlcaldiaHechos\").size()\n",
        "# Enseguida se ordenan los valores anterioes.\n",
        "num_denuncias_alcaldia = num_denuncias_alcaldia.sort_values(ascending=False)\n",
        "num_denuncias_alcaldia = pd.DataFrame(num_denuncias_alcaldia).rename(columns={0:\"Cantidad\"})\n",
        "num_denuncias_alcaldia"
      ],
      "execution_count": null,
      "outputs": [
        {
          "output_type": "execute_result",
          "data": {
            "text/html": [
              "<div>\n",
              "<style scoped>\n",
              "    .dataframe tbody tr th:only-of-type {\n",
              "        vertical-align: middle;\n",
              "    }\n",
              "\n",
              "    .dataframe tbody tr th {\n",
              "        vertical-align: top;\n",
              "    }\n",
              "\n",
              "    .dataframe thead th {\n",
              "        text-align: right;\n",
              "    }\n",
              "</style>\n",
              "<table border=\"1\" class=\"dataframe\">\n",
              "  <thead>\n",
              "    <tr style=\"text-align: right;\">\n",
              "      <th></th>\n",
              "      <th>Cantidad</th>\n",
              "    </tr>\n",
              "    <tr>\n",
              "      <th>AlcaldiaHechos</th>\n",
              "      <th></th>\n",
              "    </tr>\n",
              "  </thead>\n",
              "  <tbody>\n",
              "    <tr>\n",
              "      <th>IZTAPALAPA</th>\n",
              "      <td>75775</td>\n",
              "    </tr>\n",
              "    <tr>\n",
              "      <th>CUAUHTEMOC</th>\n",
              "      <td>61219</td>\n",
              "    </tr>\n",
              "    <tr>\n",
              "      <th>GUSTAVO A MADERO</th>\n",
              "      <td>51884</td>\n",
              "    </tr>\n",
              "    <tr>\n",
              "      <th>BENITO JUAREZ</th>\n",
              "      <td>36986</td>\n",
              "    </tr>\n",
              "    <tr>\n",
              "      <th>ALVARO OBREGON</th>\n",
              "      <td>33919</td>\n",
              "    </tr>\n",
              "    <tr>\n",
              "      <th>COYOACAN</th>\n",
              "      <td>32415</td>\n",
              "    </tr>\n",
              "    <tr>\n",
              "      <th>MIGUEL HIDALGO</th>\n",
              "      <td>30751</td>\n",
              "    </tr>\n",
              "    <tr>\n",
              "      <th>TLALPAN</th>\n",
              "      <td>29666</td>\n",
              "    </tr>\n",
              "    <tr>\n",
              "      <th>VENUSTIANO CARRANZA</th>\n",
              "      <td>27625</td>\n",
              "    </tr>\n",
              "    <tr>\n",
              "      <th>AZCAPOTZALCO</th>\n",
              "      <td>23995</td>\n",
              "    </tr>\n",
              "    <tr>\n",
              "      <th>IZTACALCO</th>\n",
              "      <td>20413</td>\n",
              "    </tr>\n",
              "    <tr>\n",
              "      <th>XOCHIMILCO</th>\n",
              "      <td>15569</td>\n",
              "    </tr>\n",
              "    <tr>\n",
              "      <th>TLAHUAC</th>\n",
              "      <td>13687</td>\n",
              "    </tr>\n",
              "    <tr>\n",
              "      <th>LA MAGDALENA CONTRERAS</th>\n",
              "      <td>9656</td>\n",
              "    </tr>\n",
              "    <tr>\n",
              "      <th>CUAJIMALPA DE MORELOS</th>\n",
              "      <td>6683</td>\n",
              "    </tr>\n",
              "    <tr>\n",
              "      <th>MILPA ALTA</th>\n",
              "      <td>3952</td>\n",
              "    </tr>\n",
              "  </tbody>\n",
              "</table>\n",
              "</div>"
            ],
            "text/plain": [
              "                        Cantidad\n",
              "AlcaldiaHechos                  \n",
              "IZTAPALAPA                 75775\n",
              "CUAUHTEMOC                 61219\n",
              "GUSTAVO A MADERO           51884\n",
              "BENITO JUAREZ              36986\n",
              "ALVARO OBREGON             33919\n",
              "COYOACAN                   32415\n",
              "MIGUEL HIDALGO             30751\n",
              "TLALPAN                    29666\n",
              "VENUSTIANO CARRANZA        27625\n",
              "AZCAPOTZALCO               23995\n",
              "IZTACALCO                  20413\n",
              "XOCHIMILCO                 15569\n",
              "TLAHUAC                    13687\n",
              "LA MAGDALENA CONTRERAS      9656\n",
              "CUAJIMALPA DE MORELOS       6683\n",
              "MILPA ALTA                  3952"
            ]
          },
          "metadata": {
            "tags": []
          },
          "execution_count": 25
        }
      ]
    },
    {
      "cell_type": "code",
      "metadata": {
        "colab": {
          "base_uri": "https://localhost:8080/",
          "height": 693
        },
        "id": "-srUvTM0J-GU",
        "outputId": "5eb95336-4d99-4c4b-80f6-3f007e8f2f9e"
      },
      "source": [
        "fig, ax = plt.subplots(figsize=(10, 10))\n",
        "ax.set_title('Denuncias por alcaldia de enero 2019 a junio 2021')\n",
        "sns.barplot(num_denuncias_alcaldia['Cantidad'], num_denuncias_alcaldia.index, ax=ax, palette=\"rocket\")\n",
        "ax.set(xlabel='Cantidad', ylabel='Alcaldia')"
      ],
      "execution_count": null,
      "outputs": [
        {
          "output_type": "stream",
          "text": [
            "/usr/local/lib/python3.7/dist-packages/seaborn/_decorators.py:43: FutureWarning: Pass the following variables as keyword args: x, y. From version 0.12, the only valid positional argument will be `data`, and passing other arguments without an explicit keyword will result in an error or misinterpretation.\n",
            "  FutureWarning\n"
          ],
          "name": "stderr"
        },
        {
          "output_type": "execute_result",
          "data": {
            "text/plain": [
              "[Text(0, 0.5, 'Alcaldia'), Text(0.5, 0, 'Cantidad')]"
            ]
          },
          "metadata": {
            "tags": []
          },
          "execution_count": 26
        },
        {
          "output_type": "display_data",
          "data": {
            "image/png": "[encoded data removed]",
            "text/plain": [
              "<Figure size 720x720 with 1 Axes>"
            ]
          },
          "metadata": {
            "tags": [],
            "needs_background": "light"
          }
        }
      ]
    },
    {
      "cell_type": "markdown",
      "metadata": {
        "id": "OHiG9SocgT-K"
      },
      "source": [
        "###¿Hay una tendencia de mayor número de delitos o denuncias en algún mes?"
      ]
    },
    {
      "cell_type": "code",
      "metadata": {
        "colab": {
          "base_uri": "https://localhost:8080/",
          "height": 457
        },
        "id": "DwmTmT9JgDsI",
        "outputId": "173dc526-3f95-45bd-cff6-f480fb288311"
      },
      "source": [
        "# Se agrupan los datos por el mes en que se cometió el delito (MesHecho) para contar los delitos ocurridos por cada mes.\n",
        "num_delitos_mes = df_base.groupby(by=\"MesHecho\").size()\n",
        "num_delitos_mes = num_delitos_mes.sort_values(ascending=False)\n",
        "num_delitos_mes = pd.DataFrame(num_delitos_mes).rename(columns={0:\"Cantidad\"})\n",
        "num_delitos_mes"
      ],
      "execution_count": null,
      "outputs": [
        {
          "output_type": "execute_result",
          "data": {
            "text/html": [
              "<div>\n",
              "<style scoped>\n",
              "    .dataframe tbody tr th:only-of-type {\n",
              "        vertical-align: middle;\n",
              "    }\n",
              "\n",
              "    .dataframe tbody tr th {\n",
              "        vertical-align: top;\n",
              "    }\n",
              "\n",
              "    .dataframe thead th {\n",
              "        text-align: right;\n",
              "    }\n",
              "</style>\n",
              "<table border=\"1\" class=\"dataframe\">\n",
              "  <thead>\n",
              "    <tr style=\"text-align: right;\">\n",
              "      <th></th>\n",
              "      <th>Cantidad</th>\n",
              "    </tr>\n",
              "    <tr>\n",
              "      <th>MesHecho</th>\n",
              "      <th></th>\n",
              "    </tr>\n",
              "  </thead>\n",
              "  <tbody>\n",
              "    <tr>\n",
              "      <th>Marzo</th>\n",
              "      <td>51697</td>\n",
              "    </tr>\n",
              "    <tr>\n",
              "      <th>Enero</th>\n",
              "      <td>49597</td>\n",
              "    </tr>\n",
              "    <tr>\n",
              "      <th>Febrero</th>\n",
              "      <td>48696</td>\n",
              "    </tr>\n",
              "    <tr>\n",
              "      <th>Mayo</th>\n",
              "      <td>45489</td>\n",
              "    </tr>\n",
              "    <tr>\n",
              "      <th>Junio</th>\n",
              "      <td>43158</td>\n",
              "    </tr>\n",
              "    <tr>\n",
              "      <th>Abril</th>\n",
              "      <td>42848</td>\n",
              "    </tr>\n",
              "    <tr>\n",
              "      <th>Agosto</th>\n",
              "      <td>33777</td>\n",
              "    </tr>\n",
              "    <tr>\n",
              "      <th>Septiembre</th>\n",
              "      <td>32510</td>\n",
              "    </tr>\n",
              "    <tr>\n",
              "      <th>Octubre</th>\n",
              "      <td>31975</td>\n",
              "    </tr>\n",
              "    <tr>\n",
              "      <th>Julio</th>\n",
              "      <td>31914</td>\n",
              "    </tr>\n",
              "    <tr>\n",
              "      <th>Noviembre</th>\n",
              "      <td>31441</td>\n",
              "    </tr>\n",
              "    <tr>\n",
              "      <th>Diciembre</th>\n",
              "      <td>31093</td>\n",
              "    </tr>\n",
              "  </tbody>\n",
              "</table>\n",
              "</div>"
            ],
            "text/plain": [
              "            Cantidad\n",
              "MesHecho            \n",
              "Marzo          51697\n",
              "Enero          49597\n",
              "Febrero        48696\n",
              "Mayo           45489\n",
              "Junio          43158\n",
              "Abril          42848\n",
              "Agosto         33777\n",
              "Septiembre     32510\n",
              "Octubre        31975\n",
              "Julio          31914\n",
              "Noviembre      31441\n",
              "Diciembre      31093"
            ]
          },
          "metadata": {
            "tags": []
          },
          "execution_count": 27
        }
      ]
    },
    {
      "cell_type": "code",
      "metadata": {
        "colab": {
          "base_uri": "https://localhost:8080/",
          "height": 693
        },
        "id": "yWAy-Ep6Nnht",
        "outputId": "a44fa291-bea7-4858-82a1-a769f17b4eea"
      },
      "source": [
        "fig, ax = plt.subplots(figsize=(12, 10))\n",
        "ax.set_title('Cantidad de delitos por mes')\n",
        "sns.barplot(num_delitos_mes.index, num_delitos_mes['Cantidad'], ax=ax, palette=\"mako\")\n",
        "ax.set(xlabel='Cantidad', ylabel='Alcaldia')"
      ],
      "execution_count": null,
      "outputs": [
        {
          "output_type": "stream",
          "text": [
            "/usr/local/lib/python3.7/dist-packages/seaborn/_decorators.py:43: FutureWarning: Pass the following variables as keyword args: x, y. From version 0.12, the only valid positional argument will be `data`, and passing other arguments without an explicit keyword will result in an error or misinterpretation.\n",
            "  FutureWarning\n"
          ],
          "name": "stderr"
        },
        {
          "output_type": "execute_result",
          "data": {
            "text/plain": [
              "[Text(0, 0.5, 'Alcaldia'), Text(0.5, 0, 'Cantidad')]"
            ]
          },
          "metadata": {
            "tags": []
          },
          "execution_count": 28
        },
        {
          "output_type": "display_data",
          "data": {
            "image/png": "[encoded data removed]",
            "text/plain": [
              "<Figure size 864x720 with 1 Axes>"
            ]
          },
          "metadata": {
            "tags": [],
            "needs_background": "light"
          }
        }
      ]
    },
    {
      "cell_type": "code",
      "metadata": {
        "colab": {
          "base_uri": "https://localhost:8080/",
          "height": 457
        },
        "id": "RktQCAO8gkbt",
        "outputId": "128b1352-6331-4d2e-d99d-f33a62210009"
      },
      "source": [
        "# Se agrupan los datos por el mes en que se hizo la denuncia (MesInicio) para contar los delitos ocurridos por cada mes de enero de 2019 a junio de 2021.\n",
        "num_denuncias_mes = df_base.groupby(by=\"MesInicio\").size()\n",
        "num_denuncias_mes = num_denuncias_mes.sort_values(ascending=False)\n",
        "num_denuncias_mes = pd.DataFrame(num_denuncias_mes).rename(columns={0:\"Cantidad\"})\n",
        "num_denuncias_mes"
      ],
      "execution_count": null,
      "outputs": [
        {
          "output_type": "execute_result",
          "data": {
            "text/html": [
              "<div>\n",
              "<style scoped>\n",
              "    .dataframe tbody tr th:only-of-type {\n",
              "        vertical-align: middle;\n",
              "    }\n",
              "\n",
              "    .dataframe tbody tr th {\n",
              "        vertical-align: top;\n",
              "    }\n",
              "\n",
              "    .dataframe thead th {\n",
              "        text-align: right;\n",
              "    }\n",
              "</style>\n",
              "<table border=\"1\" class=\"dataframe\">\n",
              "  <thead>\n",
              "    <tr style=\"text-align: right;\">\n",
              "      <th></th>\n",
              "      <th>Cantidad</th>\n",
              "    </tr>\n",
              "    <tr>\n",
              "      <th>MesInicio</th>\n",
              "      <th></th>\n",
              "    </tr>\n",
              "  </thead>\n",
              "  <tbody>\n",
              "    <tr>\n",
              "      <th>Marzo</th>\n",
              "      <td>53264</td>\n",
              "    </tr>\n",
              "    <tr>\n",
              "      <th>Febrero</th>\n",
              "      <td>49044</td>\n",
              "    </tr>\n",
              "    <tr>\n",
              "      <th>Enero</th>\n",
              "      <td>48302</td>\n",
              "    </tr>\n",
              "    <tr>\n",
              "      <th>Junio</th>\n",
              "      <td>46058</td>\n",
              "    </tr>\n",
              "    <tr>\n",
              "      <th>Mayo</th>\n",
              "      <td>45488</td>\n",
              "    </tr>\n",
              "    <tr>\n",
              "      <th>Abril</th>\n",
              "      <td>43474</td>\n",
              "    </tr>\n",
              "    <tr>\n",
              "      <th>Agosto</th>\n",
              "      <td>33566</td>\n",
              "    </tr>\n",
              "    <tr>\n",
              "      <th>Septiembre</th>\n",
              "      <td>32573</td>\n",
              "    </tr>\n",
              "    <tr>\n",
              "      <th>Julio</th>\n",
              "      <td>32398</td>\n",
              "    </tr>\n",
              "    <tr>\n",
              "      <th>Octubre</th>\n",
              "      <td>31836</td>\n",
              "    </tr>\n",
              "    <tr>\n",
              "      <th>Noviembre</th>\n",
              "      <td>30140</td>\n",
              "    </tr>\n",
              "    <tr>\n",
              "      <th>Diciembre</th>\n",
              "      <td>28052</td>\n",
              "    </tr>\n",
              "  </tbody>\n",
              "</table>\n",
              "</div>"
            ],
            "text/plain": [
              "            Cantidad\n",
              "MesInicio           \n",
              "Marzo          53264\n",
              "Febrero        49044\n",
              "Enero          48302\n",
              "Junio          46058\n",
              "Mayo           45488\n",
              "Abril          43474\n",
              "Agosto         33566\n",
              "Septiembre     32573\n",
              "Julio          32398\n",
              "Octubre        31836\n",
              "Noviembre      30140\n",
              "Diciembre      28052"
            ]
          },
          "metadata": {
            "tags": []
          },
          "execution_count": 29
        }
      ]
    },
    {
      "cell_type": "code",
      "metadata": {
        "colab": {
          "base_uri": "https://localhost:8080/",
          "height": 693
        },
        "id": "K89SCIIwOqPQ",
        "outputId": "23d23b9e-fa8b-4f6a-82d9-a81727348ef2"
      },
      "source": [
        "fig, ax = plt.subplots(figsize=(12, 10))\n",
        "ax.set_title('Cantidad de denuncias por mes, de enero 2019 a junio 2021')\n",
        "sns.barplot(num_denuncias_mes.index, num_denuncias_mes['Cantidad'], ax=ax, palette=\"magma\")\n",
        "ax.set(xlabel='Cantidad', ylabel='Alcaldia')"
      ],
      "execution_count": null,
      "outputs": [
        {
          "output_type": "stream",
          "text": [
            "/usr/local/lib/python3.7/dist-packages/seaborn/_decorators.py:43: FutureWarning: Pass the following variables as keyword args: x, y. From version 0.12, the only valid positional argument will be `data`, and passing other arguments without an explicit keyword will result in an error or misinterpretation.\n",
            "  FutureWarning\n"
          ],
          "name": "stderr"
        },
        {
          "output_type": "execute_result",
          "data": {
            "text/plain": [
              "[Text(0, 0.5, 'Alcaldia'), Text(0.5, 0, 'Cantidad')]"
            ]
          },
          "metadata": {
            "tags": []
          },
          "execution_count": 30
        },
        {
          "output_type": "display_data",
          "data": {
            "image/png": "[encoded data removed]",
            "text/plain": [
              "<Figure size 864x720 with 1 Axes>"
            ]
          },
          "metadata": {
            "tags": [],
            "needs_background": "light"
          }
        }
      ]
    },
    {
      "cell_type": "markdown",
      "metadata": {
        "id": "wyMMveUwhLMW"
      },
      "source": [
        "###¿Cuáles son las estadísticas de las víctimas (edad, sexo)?"
      ]
    },
    {
      "cell_type": "code",
      "metadata": {
        "colab": {
          "base_uri": "https://localhost:8080/",
          "height": 394
        },
        "id": "i76-oG1uhOrf",
        "outputId": "c2bd4e06-755c-4303-903a-88d6235ae70c"
      },
      "source": [
        "# Primero se eliminan los registros donde las personas no tienen sexo y edad disponibles, esto se hace al filtrar solo los datos donde Sexo es diferente de \"no aplica\", que de acuerdo a nuestra\n",
        "# modificación inicial son las personas MORALES y cuyo dato de edad tampoco está disponile.\n",
        "df_con_valor_sexo_y_edad = df_base[df_base[\"Sexo\"] != \"No aplica\"]\n",
        "# Se agrupan los datos por la columna Edad y se ordenan\n",
        "edades_victimas = df_con_valor_sexo_y_edad.groupby(by=\"Edad\").size()\n",
        "# Se toman los primeros 10 valores\n",
        "top10_edades_victimas = edades_victimas.sort_values(ascending=False).head(10)\n",
        "top10_edades_victimas = pd.DataFrame(top10_edades_victimas).rename(columns={0:\"Cantidad\"})\n",
        "top10_edades_victimas"
      ],
      "execution_count": null,
      "outputs": [
        {
          "output_type": "execute_result",
          "data": {
            "text/html": [
              "<div>\n",
              "<style scoped>\n",
              "    .dataframe tbody tr th:only-of-type {\n",
              "        vertical-align: middle;\n",
              "    }\n",
              "\n",
              "    .dataframe tbody tr th {\n",
              "        vertical-align: top;\n",
              "    }\n",
              "\n",
              "    .dataframe thead th {\n",
              "        text-align: right;\n",
              "    }\n",
              "</style>\n",
              "<table border=\"1\" class=\"dataframe\">\n",
              "  <thead>\n",
              "    <tr style=\"text-align: right;\">\n",
              "      <th></th>\n",
              "      <th>Cantidad</th>\n",
              "    </tr>\n",
              "    <tr>\n",
              "      <th>Edad</th>\n",
              "      <th></th>\n",
              "    </tr>\n",
              "  </thead>\n",
              "  <tbody>\n",
              "    <tr>\n",
              "      <th>30.0</th>\n",
              "      <td>9871</td>\n",
              "    </tr>\n",
              "    <tr>\n",
              "      <th>28.0</th>\n",
              "      <td>9694</td>\n",
              "    </tr>\n",
              "    <tr>\n",
              "      <th>29.0</th>\n",
              "      <td>9587</td>\n",
              "    </tr>\n",
              "    <tr>\n",
              "      <th>35.0</th>\n",
              "      <td>9526</td>\n",
              "    </tr>\n",
              "    <tr>\n",
              "      <th>27.0</th>\n",
              "      <td>9436</td>\n",
              "    </tr>\n",
              "    <tr>\n",
              "      <th>32.0</th>\n",
              "      <td>9301</td>\n",
              "    </tr>\n",
              "    <tr>\n",
              "      <th>31.0</th>\n",
              "      <td>9287</td>\n",
              "    </tr>\n",
              "    <tr>\n",
              "      <th>33.0</th>\n",
              "      <td>9214</td>\n",
              "    </tr>\n",
              "    <tr>\n",
              "      <th>26.0</th>\n",
              "      <td>9136</td>\n",
              "    </tr>\n",
              "    <tr>\n",
              "      <th>34.0</th>\n",
              "      <td>8977</td>\n",
              "    </tr>\n",
              "  </tbody>\n",
              "</table>\n",
              "</div>"
            ],
            "text/plain": [
              "      Cantidad\n",
              "Edad          \n",
              "30.0      9871\n",
              "28.0      9694\n",
              "29.0      9587\n",
              "35.0      9526\n",
              "27.0      9436\n",
              "32.0      9301\n",
              "31.0      9287\n",
              "33.0      9214\n",
              "26.0      9136\n",
              "34.0      8977"
            ]
          },
          "metadata": {
            "tags": []
          },
          "execution_count": 31
        }
      ]
    },
    {
      "cell_type": "code",
      "metadata": {
        "colab": {
          "base_uri": "https://localhost:8080/",
          "height": 143
        },
        "id": "kSc0SVmyjbve",
        "outputId": "240535ae-ab35-46ff-c26a-06d06708e83b"
      },
      "source": [
        "# También se puede conocer, por un procedimiento similar al anterior, el número de víctimas masculinas y femeninas.\n",
        "num_sexo_victimas = df_con_valor_sexo_y_edad.groupby(by=\"Sexo\").size()\n",
        "num_sexo_victimas = pd.DataFrame(num_sexo_victimas).rename(columns={0:\"Cantidad\"})\n",
        "num_sexo_victimas"
      ],
      "execution_count": null,
      "outputs": [
        {
          "output_type": "execute_result",
          "data": {
            "text/html": [
              "<div>\n",
              "<style scoped>\n",
              "    .dataframe tbody tr th:only-of-type {\n",
              "        vertical-align: middle;\n",
              "    }\n",
              "\n",
              "    .dataframe tbody tr th {\n",
              "        vertical-align: top;\n",
              "    }\n",
              "\n",
              "    .dataframe thead th {\n",
              "        text-align: right;\n",
              "    }\n",
              "</style>\n",
              "<table border=\"1\" class=\"dataframe\">\n",
              "  <thead>\n",
              "    <tr style=\"text-align: right;\">\n",
              "      <th></th>\n",
              "      <th>Cantidad</th>\n",
              "    </tr>\n",
              "    <tr>\n",
              "      <th>Sexo</th>\n",
              "      <th></th>\n",
              "    </tr>\n",
              "  </thead>\n",
              "  <tbody>\n",
              "    <tr>\n",
              "      <th>Femenino</th>\n",
              "      <td>170757</td>\n",
              "    </tr>\n",
              "    <tr>\n",
              "      <th>Masculino</th>\n",
              "      <td>191047</td>\n",
              "    </tr>\n",
              "  </tbody>\n",
              "</table>\n",
              "</div>"
            ],
            "text/plain": [
              "           Cantidad\n",
              "Sexo               \n",
              "Femenino     170757\n",
              "Masculino    191047"
            ]
          },
          "metadata": {
            "tags": []
          },
          "execution_count": 32
        }
      ]
    },
    {
      "cell_type": "code",
      "metadata": {
        "colab": {
          "base_uri": "https://localhost:8080/",
          "height": 143
        },
        "id": "6b-_Jn8EP5Es",
        "outputId": "b8520679-5070-4d7f-d32c-27c95ee7fcf5"
      },
      "source": [
        "# Se calculan ciertas estadísticas por las categorías de Sexo y Edad mediante un agrupamiento\n",
        "edades_estadisticas = df.groupby('Sexo').agg({'Edad': ['mean', 'min', 'max']})\n",
        "edades_estadisticas.columns = ['Edad promedio', 'Edad mínima', 'Edad máxima']\n",
        "edades_estadisticas"
      ],
      "execution_count": null,
      "outputs": [
        {
          "output_type": "execute_result",
          "data": {
            "text/html": [
              "<div>\n",
              "<style scoped>\n",
              "    .dataframe tbody tr th:only-of-type {\n",
              "        vertical-align: middle;\n",
              "    }\n",
              "\n",
              "    .dataframe tbody tr th {\n",
              "        vertical-align: top;\n",
              "    }\n",
              "\n",
              "    .dataframe thead th {\n",
              "        text-align: right;\n",
              "    }\n",
              "</style>\n",
              "<table border=\"1\" class=\"dataframe\">\n",
              "  <thead>\n",
              "    <tr style=\"text-align: right;\">\n",
              "      <th></th>\n",
              "      <th>Edad promedio</th>\n",
              "      <th>Edad mínima</th>\n",
              "      <th>Edad máxima</th>\n",
              "    </tr>\n",
              "    <tr>\n",
              "      <th>Sexo</th>\n",
              "      <th></th>\n",
              "      <th></th>\n",
              "      <th></th>\n",
              "    </tr>\n",
              "  </thead>\n",
              "  <tbody>\n",
              "    <tr>\n",
              "      <th>Femenino</th>\n",
              "      <td>37.938508</td>\n",
              "      <td>0.0</td>\n",
              "      <td>120.0</td>\n",
              "    </tr>\n",
              "    <tr>\n",
              "      <th>Masculino</th>\n",
              "      <td>39.717908</td>\n",
              "      <td>0.0</td>\n",
              "      <td>369.0</td>\n",
              "    </tr>\n",
              "  </tbody>\n",
              "</table>\n",
              "</div>"
            ],
            "text/plain": [
              "           Edad promedio  Edad mínima  Edad máxima\n",
              "Sexo                                              \n",
              "Femenino       37.938508          0.0        120.0\n",
              "Masculino      39.717908          0.0        369.0"
            ]
          },
          "metadata": {
            "tags": []
          },
          "execution_count": 33
        }
      ]
    },
    {
      "cell_type": "markdown",
      "metadata": {
        "id": "zfQEg-IhRXUI"
      },
      "source": [
        "Se puede observar con esto que la base de datos contiene algunos valores irreales como una edad de 369 años. De modo que estos datos podrían ser extraídos para manejar información de mayor veracidad, y deja la curiosidad para indagar sobre las víctimas de 0 años."
      ]
    },
    {
      "cell_type": "markdown",
      "metadata": {
        "id": "7gUB5yBFj042"
      },
      "source": [
        "### Análisis de las denuncias según la clasificación de la fiscalía"
      ]
    },
    {
      "cell_type": "code",
      "metadata": {
        "colab": {
          "base_uri": "https://localhost:8080/",
          "height": 583
        },
        "id": "h1cdRDkljpyB",
        "outputId": "e75227d5-6077-452f-84a7-fb688cb9eb4b"
      },
      "source": [
        "# Como se mencionó al incio, la base de datos contiene una columna llamada Categoria, la cual etiqueta el delito según la clasificación de la Ficalía General de la Justicia.\n",
        "num_denuncias_clasFGJ = df_base.groupby(by=\"Categoria\").size()\n",
        "num_denuncias_clasFGJ = num_denuncias_clasFGJ.sort_values(ascending=False)\n",
        "num_denuncias_clasFGJ = pd.DataFrame(num_denuncias_clasFGJ).rename(columns={0:\"Cantidad\"})\n",
        "num_denuncias_clasFGJ"
      ],
      "execution_count": null,
      "outputs": [
        {
          "output_type": "execute_result",
          "data": {
            "text/html": [
              "<div>\n",
              "<style scoped>\n",
              "    .dataframe tbody tr th:only-of-type {\n",
              "        vertical-align: middle;\n",
              "    }\n",
              "\n",
              "    .dataframe tbody tr th {\n",
              "        vertical-align: top;\n",
              "    }\n",
              "\n",
              "    .dataframe thead th {\n",
              "        text-align: right;\n",
              "    }\n",
              "</style>\n",
              "<table border=\"1\" class=\"dataframe\">\n",
              "  <thead>\n",
              "    <tr style=\"text-align: right;\">\n",
              "      <th></th>\n",
              "      <th>Cantidad</th>\n",
              "    </tr>\n",
              "    <tr>\n",
              "      <th>Categoria</th>\n",
              "      <th></th>\n",
              "    </tr>\n",
              "  </thead>\n",
              "  <tbody>\n",
              "    <tr>\n",
              "      <th>DELITO DE BAJO IMPACTO</th>\n",
              "      <td>373820</td>\n",
              "    </tr>\n",
              "    <tr>\n",
              "      <th>ROBO A TRANSEUNTE EN VÍA PÚBLICA CON Y SIN VIOLENCIA</th>\n",
              "      <td>27467</td>\n",
              "    </tr>\n",
              "    <tr>\n",
              "      <th>ROBO DE VEHÍCULO CON Y SIN VIOLENCIA</th>\n",
              "      <td>23832</td>\n",
              "    </tr>\n",
              "    <tr>\n",
              "      <th>ROBO A NEGOCIO CON VIOLENCIA</th>\n",
              "      <td>17702</td>\n",
              "    </tr>\n",
              "    <tr>\n",
              "      <th>ROBO A REPARTIDOR CON Y SIN VIOLENCIA</th>\n",
              "      <td>7744</td>\n",
              "    </tr>\n",
              "    <tr>\n",
              "      <th>HECHO NO DELICTIVO</th>\n",
              "      <td>5939</td>\n",
              "    </tr>\n",
              "    <tr>\n",
              "      <th>ROBO A PASAJERO A BORDO DEL METRO CON Y SIN VIOLENCIA</th>\n",
              "      <td>3823</td>\n",
              "    </tr>\n",
              "    <tr>\n",
              "      <th>HOMICIDIO DOLOSO</th>\n",
              "      <td>3634</td>\n",
              "    </tr>\n",
              "    <tr>\n",
              "      <th>VIOLACIÓN</th>\n",
              "      <td>3206</td>\n",
              "    </tr>\n",
              "    <tr>\n",
              "      <th>ROBO A PASAJERO A BORDO DE MICROBUS CON Y SIN VIOLENCIA</th>\n",
              "      <td>1833</td>\n",
              "    </tr>\n",
              "    <tr>\n",
              "      <th>LESIONES DOLOSAS POR DISPARO DE ARMA DE FUEGO</th>\n",
              "      <td>1740</td>\n",
              "    </tr>\n",
              "    <tr>\n",
              "      <th>ROBO A CASA HABITACIÓN CON VIOLENCIA</th>\n",
              "      <td>1389</td>\n",
              "    </tr>\n",
              "    <tr>\n",
              "      <th>ROBO A CUENTAHABIENTE SALIENDO DEL CAJERO CON VIOLENCIA</th>\n",
              "      <td>1092</td>\n",
              "    </tr>\n",
              "    <tr>\n",
              "      <th>ROBO A PASAJERO A BORDO DE TAXI CON VIOLENCIA</th>\n",
              "      <td>626</td>\n",
              "    </tr>\n",
              "    <tr>\n",
              "      <th>ROBO A TRANSPORTISTA CON Y SIN VIOLENCIA</th>\n",
              "      <td>264</td>\n",
              "    </tr>\n",
              "    <tr>\n",
              "      <th>SECUESTRO</th>\n",
              "      <td>84</td>\n",
              "    </tr>\n",
              "  </tbody>\n",
              "</table>\n",
              "</div>"
            ],
            "text/plain": [
              "                                                    Cantidad\n",
              "Categoria                                                   \n",
              "DELITO DE BAJO IMPACTO                                373820\n",
              "ROBO A TRANSEUNTE EN VÍA PÚBLICA CON Y SIN VIOL...     27467\n",
              "ROBO DE VEHÍCULO CON Y SIN VIOLENCIA                   23832\n",
              "ROBO A NEGOCIO CON VIOLENCIA                           17702\n",
              "ROBO A REPARTIDOR CON Y SIN VIOLENCIA                   7744\n",
              "HECHO NO DELICTIVO                                      5939\n",
              "ROBO A PASAJERO A BORDO DEL METRO CON Y SIN VIO...      3823\n",
              "HOMICIDIO DOLOSO                                        3634\n",
              "VIOLACIÓN                                               3206\n",
              "ROBO A PASAJERO A BORDO DE MICROBUS CON Y SIN V...      1833\n",
              "LESIONES DOLOSAS POR DISPARO DE ARMA DE FUEGO           1740\n",
              "ROBO A CASA HABITACIÓN CON VIOLENCIA                    1389\n",
              "ROBO A CUENTAHABIENTE SALIENDO DEL CAJERO CON V...      1092\n",
              "ROBO A PASAJERO A BORDO DE TAXI CON VIOLENCIA            626\n",
              "ROBO A TRANSPORTISTA CON Y SIN VIOLENCIA                 264\n",
              "SECUESTRO                                                 84"
            ]
          },
          "metadata": {
            "tags": []
          },
          "execution_count": 34
        }
      ]
    },
    {
      "cell_type": "code",
      "metadata": {
        "colab": {
          "base_uri": "https://localhost:8080/",
          "height": 710
        },
        "id": "bViwGMvPWDB4",
        "outputId": "69656c92-54b6-477c-d10f-03436ee8cc43"
      },
      "source": [
        "fig, ax = plt.subplots(figsize=(12, 10))\n",
        "ax.set_title('Cantidad de denuncias por mes, de enero 2019 a junio 2021')\n",
        "sns.barplot(num_denuncias_clasFGJ['Cantidad'], num_denuncias_clasFGJ.index, ax=ax, palette=\"crest\")\n",
        "ax.set(xlabel='Cantidad', ylabel='Tipo de delito, clasificación de la FGJ')"
      ],
      "execution_count": null,
      "outputs": [
        {
          "output_type": "stream",
          "text": [
            "/usr/local/lib/python3.7/dist-packages/seaborn/_decorators.py:43: FutureWarning: Pass the following variables as keyword args: x, y. From version 0.12, the only valid positional argument will be `data`, and passing other arguments without an explicit keyword will result in an error or misinterpretation.\n",
            "  FutureWarning\n"
          ],
          "name": "stderr"
        },
        {
          "output_type": "execute_result",
          "data": {
            "text/plain": [
              "[Text(0, 0.5, 'Tipo de delito, clasificación de la FGJ'),\n",
              " Text(0.5, 0, 'Cantidad')]"
            ]
          },
          "metadata": {
            "tags": []
          },
          "execution_count": 35
        },
        {
          "output_type": "display_data",
          "data": {
            "image/png": "[encoded data removed]",
            "text/plain": [
              "<Figure size 864x720 with 1 Axes>"
            ]
          },
          "metadata": {
            "tags": [],
            "needs_background": "light"
          }
        }
      ]
    },
    {
      "cell_type": "markdown",
      "metadata": {
        "id": "Nla2-XiWSYBA"
      },
      "source": [
        "Esto muestra que la FGJ tiene muchas denuncias por delitos clasificados como Delito de bajo impacto. Veamos qué tipo de delitos están considerados en esa categoría."
      ]
    },
    {
      "cell_type": "code",
      "metadata": {
        "id": "P92L3E4Sj-pH",
        "colab": {
          "base_uri": "https://localhost:8080/"
        },
        "outputId": "bf6e6eb4-031e-4de5-b3d0-f13bd946f036"
      },
      "source": [
        "# Delitos de bajo impacto\n",
        "delitos_bajo_impacto = df_base[df_base[\"Categoria\"]==\"DELITO DE BAJO IMPACTO\"][\"Delito\"].unique()\n",
        "delitos_bajo_impacto"
      ],
      "execution_count": null,
      "outputs": [
        {
          "output_type": "execute_result",
          "data": {
            "text/plain": [
              "array(['FRAUDE',\n",
              "       'PRODUCCIÓN, IMPRESIÓN, ENAJENACIÓN, DISTRIBUCIÓN, ALTERACIÓN O FALSIFICACIÓN DE TÍTULOS AL PORTADOR, DOCUMENTOS DE CRÉDITO PÚBLICOS O VALES DE CANJE',\n",
              "       'ROBO A TRANSEUNTE DE CELULAR SIN VIOLENCIA', 'DESPOJO',\n",
              "       'ROBO DE ACCESORIOS DE AUTO',\n",
              "       'ROBO A TRANSEUNTE A BORDO DE TAXI PUBLICO Y PRIVADO SIN VIOLENCIA',\n",
              "       'ROBO DE OBJETOS', 'ABUSO DE CONFIANZA',\n",
              "       'ROBO A PASAJERO A BORDO DE TRANSPORTE PÚBLICO CON VIOLENCIA',\n",
              "       'VIOLENCIA FAMILIAR', 'ROBO A CASA HABITACION SIN VIOLENCIA',\n",
              "       'ROBO A TRANSEUNTE EN RESTAURANT CON VIOLENCIA',\n",
              "       'DELITOS DE ABOGADOS, PATRONOS, LITIGANTES Y ASESORES JURIDICOS',\n",
              "       'AMENAZAS',\n",
              "       'ROBO A TRANSEUNTE CONDUCTOR DE TAXI PUBLICO Y PRIVADO CON VIOLENCIA',\n",
              "       'DAÑO EN PROPIEDAD AJENA INTENCIONAL',\n",
              "       'ABUSO DE AUTORIDAD Y USO ILEGAL DE LA FUERZA PUBLICA',\n",
              "       'NARCOMENUDEO POSESION SIMPLE', 'ROBO A NEGOCIO SIN VIOLENCIA',\n",
              "       'ROBO A PASAJERO A BORDO DE TRANSPORTE PÚBLICO SIN VIOLENCIA',\n",
              "       'ROBO A TRANSEUNTE DE CELULAR CON VIOLENCIA',\n",
              "       'ROBO DE OBJETOS DEL INTERIOR DE UN VEHICULO',\n",
              "       'ALLANAMIENTO DE MORADA, DESPACHO, OFICINA O ESTABLECIMIENTO MERCANTIL',\n",
              "       'PRIVACION DE LA LIBERTAD PERSONAL',\n",
              "       'DAÑO EN PROPIEDAD AJENA CULPOSA',\n",
              "       'ROBO A PASAJERO / CONDUCTOR DE VEHICULO CON VIOLENCIA',\n",
              "       'ROBO DE VEHICULO DE PEDALES', 'ROBO DE DINERO',\n",
              "       'DAÑO EN PROPIEDAD AJENA INTENCIONAL A NEGOCIO',\n",
              "       'DAÑO EN PROPIEDAD AJENA CULPOSA POR TRÁNSITO VEHICULAR A AUTOMOVIL',\n",
              "       'TENTATIVA DE ROBO DE VEHICULO', 'NEGACION DEL SERVICIO PUBLICO',\n",
              "       'QUEBRANTAMIENTO DE SELLOS', 'TENTATIVA DE EXTORSION',\n",
              "       'LESIONES INTENCIONALES POR GOLPES', 'USURPACIÓN DE IDENTIDAD',\n",
              "       'LESIONES CULPOSAS POR TRANSITO VEHICULAR EN COLISION',\n",
              "       'ROBO A PASAJERO A BORDO DE METROBUS SIN VIOLENCIA',\n",
              "       'HOMICIDIO CULPOSO POR TRÁNSITO VEHICULAR (COLISION)',\n",
              "       'DAÑO EN PROPIEDAD AJENA INTENCIONAL A AUTOMOVIL',\n",
              "       'DAÑO EN PROPIEDAD AJENA INTENCIONAL A CASA HABITACION',\n",
              "       'ROBO DE OBJETOS A ESCUELA',\n",
              "       'ENCUBRIMIENTO POR FAVORECIMIENTO Y RECEPTACIÓN',\n",
              "       'TENTATIVA DE ROBO', 'ABUSO SEXUAL',\n",
              "       'DAÑO EN PROPIEDAD AJENA INTENCIONAL A BIENES INMUEBLES',\n",
              "       'PORNOGRAFÍA', 'LESIONES CULPOSAS POR TRANSITO VEHICULAR',\n",
              "       'OMISION DE AUXILIO O DE CUIDADO', 'MALTRATO ANIMAL',\n",
              "       'LESIONES CULPOSAS',\n",
              "       'DAÑO EN PROPIEDAD AJENA CULPOSA POR TRÁNSITO VEHICULAR A BIENES INMUEBLES',\n",
              "       'ROBO DE ANIMALES',\n",
              "       'CONTRA EL CUMPLIMIENTO DE LA OBLIGACION ALIMENTARIA',\n",
              "       'RETENCIÓN O SUSTRACCIÓN DE MENORES INCAPACES', 'DISCRIMINACION',\n",
              "       'ROBO A OFICINA PÚBLICA SIN VIOLENCIA',\n",
              "       'LESIONES CULPOSAS POR CAIDA', 'DELITOS AMBIENTALES',\n",
              "       'PERSONAS EXTRAVIADAS Y AUSENTES', 'ROBO DE DOCUMENTOS',\n",
              "       'DESOBEDIENCIA Y RESISTENCIA DE PARTICULARES',\n",
              "       'LA ADMINISTRACION DE JUSTICIA',\n",
              "       'NARCOMENUDEO POSESIÓN CON FINES DE VENTA, COMERCIO Y SUMINISTRO',\n",
              "       'ROBO DE PLACA DE AUTOMOVIL', 'POSESION DE VEHICULO ROBADO',\n",
              "       'FALSEDAD ANTE AUTORIDADES',\n",
              "       'ROBO A TRANSEUNTE EN NEGOCIO CON VIOLENCIA', 'ESTUPRO',\n",
              "       'ACOSO SEXUAL', 'EJERCICIO ILEGAL Y ABANDONO DEL SERVICIO PUBLICO',\n",
              "       'HOMICIDIO CULPOSO POR TRÁNSITO VEHICULAR (ATROPELLADO)',\n",
              "       'USO DE DOCUMENTO FALSO', 'LESIONES INTENCIONALES', 'EXTORSION',\n",
              "       'ROBO DE FLUIDOS',\n",
              "       'FALSIFICACION O ALTERACION Y USO INDEBIDO DE DOCUMENTOS',\n",
              "       'ROBO DE ALHAJAS', 'CONTRA FUNCIONARIOS PUBLICOS',\n",
              "       'PORTACIÓN, FABRICACIÓN E IMPORTACIÓN DE OBJETOS APTOS PARA AGREDIR',\n",
              "       'PORTACION DE ARMA DE FUEGO',\n",
              "       'ROBO A CASA HABITACION Y VEHICULO SIN VIOLENCIA',\n",
              "       'HOMICIDIO CULPOSO POR TRÁNSITO VEHICULAR (CAIDA)',\n",
              "       'LESIONES INTENCIONALES POR ARMA BLANCA',\n",
              "       'ROBO A TRANSEUNTE EN HOTEL CON VIOLENCIA',\n",
              "       'ROBO A PASAJERO EN TROLEBUS SIN VIOLENCIA',\n",
              "       'ATAQUE A LAS VIAS DE COMUNICACION (DAÑO A VIAS O MEDIOS DE TRANSPORTE)',\n",
              "       'PELIGRO DE CONTAGIO', 'TENTATIVA DE FRAUDE',\n",
              "       'SECUESTRO EXPRESS (PARA COMETER ROBO O EXTORSIÓN)',\n",
              "       'LESIONES CULPOSAS POR CAIDA DE VEHÍCULO EN MOVIMIENTO',\n",
              "       'HOMICIDIO CULPOSO POR TRÁNSITO VEHICULAR',\n",
              "       'REVELACION DE SECRETOS', 'COHECHO', 'COBRANZA ILEGITIMA',\n",
              "       'ROBO DE ARMA',\n",
              "       'ROBO A TRANSEUNTE EN PARQUES Y MERCADOS CON VIOLENCIA',\n",
              "       'TRATA DE PERSONAS', 'RESPONSABILIDAD PROFESIONAL Y TECNICA',\n",
              "       'ROBO A PASAJERO A BORDO DE METROBUS CON VIOLENCIA',\n",
              "       'CORRUPCIÓN DE PERSONAS MENORES DE EDAD O PERSONAS QUE NO TENGAN CAPACIDAD PARA COMPRENDER EL SIGNIFICADO DEL HECHO O DE PERSONAS QUE NO TENGAN CAPACIDAD DE RESISTIR LA CONDUCTA',\n",
              "       'ATAQUE A LAS VIAS GENERALES DE COMUNICACIÓN',\n",
              "       'TENTATIVA DE SUICIDIO', 'ROBO A PASAJERO EN RTP CON VIOLENCIA',\n",
              "       'LESIONES CULPOSAS POR QUEMADURAS',\n",
              "       'LESIONES CULPOSAS ACCIDENTE LABORAL',\n",
              "       'ROBO A PASAJERO EN TREN LIGERO SIN VIOLENCIA',\n",
              "       'HOMICIDIO CULPOSO POR ARMA DE FUEGO',\n",
              "       'USURPACION DE FUNCIONES PUBLICAS',\n",
              "       'ROBO A NEGOCIO Y VEHICULO SIN VIOLENCIA',\n",
              "       'PRIV. ILEGAL DE LA LIB. Y ROBO DE VEHICULO', 'GESTIÓN AMBIENTAL',\n",
              "       'TORTURA', 'TENTATIVA DE HOMICIDIO',\n",
              "       'ROBO A TRANSEUNTE EN TERMINAL DE PASAJEROS CON VIOLENCIA',\n",
              "       'ROBO A PASAJERO EN RTP SIN VIOLENCIA',\n",
              "       'ROBO A PASAJERO EN TREN LIGERO CON VIOLENCIA',\n",
              "       'DISPAROS DE ARMA DE FUEGO', 'VIOLACION DE CORRESPONDENCIA',\n",
              "       'DAÑO EN PROPIEDAD AJENA INTENCIONAL A VIAS DE COMUNICACION',\n",
              "       'DESAPARICION FORZADA DE PERSONAS',\n",
              "       'ROBO EN INTERIOR DE EMPRESA (NOMINA) SIN VIOLENCIA', 'ABORTO',\n",
              "       'ROBO A PASAJERO EN AUTOBÚS FORÁNEO CON VIOLENCIA',\n",
              "       'FALSIFICACIÓN DE SELLOS, MARCAS, LLAVES, CUÑOS, TROQUELES, CONTRASEÑAS Y OTROS',\n",
              "       'ROBO A PASAJERO EN TROLEBUS CON VIOLENCIA', 'PECULADO',\n",
              "       'INTIMIDACION', 'USURPACION DE PROFESION',\n",
              "       'DAÑO EN PROPIEDAD AJENA CULPOSA POR TRÁNSITO VEHICULAR A VIAS DE COMUNICACION',\n",
              "       'OPERACIONES CON RECURSOS DE PROCEDENCIA ILICITA',\n",
              "       'DAÑO SUELO (ACTIVIDAD, INVASIÓN O EXTRACCIÓN)',\n",
              "       'DESOBEDENCIA DE PARTICULARES', 'CAMBIO DE USO DE SUELO',\n",
              "       'CONTAMINACIÓN O RESIDUOS',\n",
              "       'USO INDEBIDO DE ATRIBUCIONES Y FACULTADES',\n",
              "       'ROBO A SUCURSAL BANCARIA (SUPERMERCADO) SIN VIOLENCIA',\n",
              "       'INHUMACION, EXHUMACION Y RESPETO A LOS CADAVERES O RESTOS HUMANOS',\n",
              "       'ROBO A PASAJERO EN TREN SUBURBANO SIN VIOLENCIA',\n",
              "       'DELITOS ELECTORALES', 'LESIONES INTENCIONALES Y ROBO DE VEHICULO',\n",
              "       'PRIVACION DE LA LIBERTAD PERSONAL (REALIZAR ACTO SEXUAL)',\n",
              "       'TENTATIVA DE VIOLACION',\n",
              "       'OPOSICION A QUE SE EJECUTE ALGUNA OBRA O TRABAJO PUBLICOS',\n",
              "       'HOMICIDIO CULPOSO', 'REGULACIÓN URBANA',\n",
              "       'EXPLOTACIÓN LABORAL DE MENORES, PERSONAS CON DISCAPACIDAD FÍSICA O MENTAL Y ADULTOS MAYORES',\n",
              "       'OTROS AMBIENTALES', 'DELITOS CONTRA LA SALUD',\n",
              "       'ROBO A PASAJERO EN AUTOBUS FORANEO SIN VIOLENCIA', 'SABOTAJE',\n",
              "       'VARIACION DE NOMBRE O DOMICILIO', 'ENTREGA ILEGITIMA DE UN MENOR',\n",
              "       'TRAFICO DE INFLUENCIA', 'DIFAMACION',\n",
              "       'FABRICACION, COMERCIALIZACION Y USO INDEBIDO DE INSIGNIAS Y UNIFORMES',\n",
              "       'CONTAGIO VENERERO', 'TALA',\n",
              "       'ROBO A PASAJERO EN ECOBUS SIN VIOLENCIA',\n",
              "       'ROBO A PASAJERO EN ECOBUS CON VIOLENCIA',\n",
              "       'CONTRA EL ESTADO CIVIL',\n",
              "       'ROBO DURANTE TRASLADO DE VALORES (NOMINA) SIN VIOLENCIA',\n",
              "       'BIGAMIA',\n",
              "       'ROBO A NEGOCIO SIN VIOLENCIA POR FARDEROS (TIENDAS DE AUTOSERVICIO)',\n",
              "       'ENCUBRIMIENTO',\n",
              "       'ROBO A NEGOCIO SIN VIOLENCIA POR FARDEROS (TIENDAS DE CONVENIENCIA)',\n",
              "       'SUSTRACCIÓN DE MENORES',\n",
              "       'HOMICIDIO CULPOSO CON EXCLUYENTES DE RESPONSABILIDAD',\n",
              "       'EVASION DE PRESOS', 'RETENCIÓN DE MENORES',\n",
              "       'ROBO A SUCURSAL BANCARIA SIN VIOLENCIA',\n",
              "       'CONTRA LA INTIMIDAD SEXUAL',\n",
              "       'OPERACIONES CON RECURSOS DE PROCEDENCIA ILEGAL',\n",
              "       'ROBO S/V DENTRO DE NEGOCIOS, AUTOSERVICIOS, CONVENIENCIA',\n",
              "       'ACOSO SEXUAL AGRAVADO EN CONTRA DE MENORES',\n",
              "       'TENTATIVA DE FEMINICIDIO', 'ROBO DE CONTENEDORES DE TRAILERS S/V',\n",
              "       'ROBO A LOCALES SEMIFIJOS (PUESTOS DE ALIMENTOS,BEBIDAS, ENSERES, PERIODICOS,LOTERIA, OTROS)',\n",
              "       'EXPOSICION DE MENORES', 'INCESTO',\n",
              "       'ROBO EN EVENTOS MASIVOS (DEPORTIVOS, CULTURALES, RELIGIOSOS Y ARTISTICOS) S/V',\n",
              "       'ROBO DE VEHICULO ELECTRICO MOTOPATIN',\n",
              "       'HOMICIDIO CULPOSO POR INSTRUMENTO PUNZO CORTANTE',\n",
              "       'ROBO DE MERCANCIA EN CONTENEDEROS EN ÁREAS FEDERALES',\n",
              "       'LESIONES CULPOSAS CON EXCLUYENTES DE RESPONSABILIDAD',\n",
              "       'PANDILLA, ASOCIACIÓN DELICTUOSA Y DELINCUENCIA ORGANIZADA',\n",
              "       'ROBO A PASAJERO EN TREN SUBURBANO CON VIOLENCIA',\n",
              "       'ATAQUES A LA PAZ PUBLICA', 'ENRIQUECIMIENTO ILICITO',\n",
              "       'ROBO A SUCURSAL BANCARIA DENTRO DE  TIENDAS DE AUTOSERVICIO S/V',\n",
              "       'LESIONES DOLOSAS POR QUEMADURAS',\n",
              "       'LEY FEDERAL DE ARMAS DE FUEGO Y EXPLOSIVOS',\n",
              "       'ENCUBRIMIENTO POR FAVORECIMIENTO',\n",
              "       'ROBO A TRANSEUNTE Y VEHICULO CON VIOLENCIA',\n",
              "       'PROCREACION ASISTIDA, INSEMINACION ARTIFICIAL Y ESTERILIZACION FORZADA',\n",
              "       'VIOLACION DE LA INTIMIDAD',\n",
              "       'ROBO A PASAJERO A BORDO DE PESERO Y VEHICULO CON VIOLENCIA',\n",
              "       'CONCUSION', 'VIOLACION A LOS DERECHOS HUMANOS',\n",
              "       'COALICIÓN DE SERVIDORES PÚBLICOS', 'TRAFICO DE INFANTES',\n",
              "       'CORRUPCION DE MENORES E INCAPACES', 'ROBO DE INFANTE',\n",
              "       'HOMICIDIO CULPOSO FUERA DEL D.F (ATROPELLADO)',\n",
              "       'EJERCICIO INDEBIDO DEL PROPIO DER.',\n",
              "       'HOMICIDIO CULPOSO FUERA DEL D.F (COLISION)',\n",
              "       'ROBO A NEGOCIO SIN VIOLENCIA POR FARDEROS'], dtype=object)"
            ]
          },
          "metadata": {
            "tags": []
          },
          "execution_count": 36
        }
      ]
    },
    {
      "cell_type": "markdown",
      "metadata": {
        "id": "RICmfYlWSqmJ"
      },
      "source": [
        "Impresionantemente en esta categoría se encuentran delitos como:\n",
        "\n",
        "ABUSO SEXUAL\n",
        "\n",
        "HOMICIDIO CULPOSO\n",
        "\n",
        "TORTURA\n",
        "\n",
        "TRAFICO DE INFANTES\n",
        "\n",
        "Entre otros. Esto deja abierta la pregunta sobre qué tan eficiente o justa es la clasificación de delitos de la FGJ, para continuar con las carpetas de investigación."
      ]
    },
    {
      "cell_type": "markdown",
      "metadata": {
        "id": "NhnZLbejkNIU"
      },
      "source": [
        "###Competencia/clasificación de la denuncia"
      ]
    },
    {
      "cell_type": "code",
      "metadata": {
        "id": "QR6LQiOWkGQ6",
        "colab": {
          "base_uri": "https://localhost:8080/"
        },
        "outputId": "211decc4-885a-49cc-9257-d9f3f12b7659"
      },
      "source": [
        "# Recordar que existe uan columna llama Competencia que clasifica la denuncia según tres grandes grupos:\n",
        "# - Fuero común (hechos delictivos ocurridos y denunciados en CDMX)\n",
        "# - Hechos no delictivos (denuncias que no pertenecen a un delito como tal, como un suicidio)\n",
        "# - Incompetencia (hechos delictivos ocurridos fuera de CDMX pero denunciados en la CDMX)\n",
        "num_competencia = df_base.groupby(by=\"Competencia\").size()\n",
        "num_competencia"
      ],
      "execution_count": null,
      "outputs": [
        {
          "output_type": "execute_result",
          "data": {
            "text/plain": [
              "Competencia\n",
              "FUERO COMUN             467511\n",
              "HECHO NO DELICTIVO        2370\n",
              "HECHOS NO DELICTIVOS      3569\n",
              "INCOMPETENCIA              212\n",
              "INCOMPETENCIAS             533\n",
              "dtype: int64"
            ]
          },
          "metadata": {
            "tags": []
          },
          "execution_count": 37
        }
      ]
    },
    {
      "cell_type": "code",
      "metadata": {
        "id": "G_W_n1u_T_Re"
      },
      "source": [
        "# Se puede obtener el número de denuncias por delitos ocurridos dentro de la CDMX y denunciados ahí:\n",
        "hechos_delictivos_enCDMX = num_competencia[\"FUERO COMUN\"]\n",
        "num_total_denuncias = df_base.shape[0]"
      ],
      "execution_count": null,
      "outputs": []
    },
    {
      "cell_type": "markdown",
      "metadata": {
        "id": "hfM7nRJ5kPVY"
      },
      "source": [
        "###Delitos denunciados en la CDMX, pero no ocurridos en la ciudad.\n",
        "Porcentaje de denuncias debido a hechos delictivos que realmente ocurrieron en la Ciudad de México"
      ]
    },
    {
      "cell_type": "code",
      "metadata": {
        "colab": {
          "base_uri": "https://localhost:8080/"
        },
        "id": "PuHugUaMkVxG",
        "outputId": "5f028ea1-d7c6-4e8e-accf-5da59c0d00e6"
      },
      "source": [
        "# Con lo anterior se puede calcular el porcentaje de hechos delicitivos que realmente ocurrieron y se denunciaron en la CDMX.\n",
        "porcentaje_hechos_delictivos_CDMX = (hechos_delictivos_enCDMX/num_total_denuncias)*100\n",
        "print(f\"El porcentaje de hechos delictivos ocurridos y denunciados en la CDMX respecto al total de denuncias es aproximadamente {round(porcentaje_hechos_delictivos_CDMX,2)} %\")"
      ],
      "execution_count": null,
      "outputs": [
        {
          "output_type": "stream",
          "text": [
            "El porcentaje de hechos delictivos ocurridos y denunciados en la CDMX respecto al total de denuncias es aproximadamente 98.59 %\n"
          ],
          "name": "stdout"
        }
      ]
    },
    {
      "cell_type": "markdown",
      "metadata": {
        "id": "hOcVv9C8ketk"
      },
      "source": [
        "###Delitos a personas morales cuya edad y sexo no está disponible.\n",
        "La siguiente información se filtra porque puede ser útil más adelante para analizar este tipo de denuncias en particular donde el tipo de persona es MORAL."
      ]
    },
    {
      "cell_type": "code",
      "metadata": {
        "id": "bRBSVHa5kbgI"
      },
      "source": [
        "denuncias_personas_morales = df_base[df_base[\"TipoPersona\"] == \"MORAL\"]"
      ],
      "execution_count": null,
      "outputs": []
    },
    {
      "cell_type": "markdown",
      "metadata": {
        "id": "nn2TyPn_Xylh"
      },
      "source": [
        "### Puntos pendientes de interés por cubrir con las herramientas y conocimientos del próximo módulo\n",
        "\n",
        "*   Cuantificar algunos aspectos que permitan la predicción de delitos, como la hora más probable en la que pueden suceder, la zona donde se podría requerir más presencia policiaca, y en qué época del año según el tipo de delito.\n",
        "*   Un análisis más profundo donde se puedan obtener conclusiones después de cruzar información como edad, sexo y calidad jurídica de la víctima.\n",
        "*   Creación de algún mapa de zonas de riesgos por tipo de delito e incluso hora de ocurrencia. Información útil para la poblaclión y sistemas de seguridad pública. Los datos de latitud y longitud aún no han sido explotados.\n",
        "*   Generación de algún sistema de clasificación de delitos mejorado y quizá más justo para la FGJ de modo que haya más concordancia entre los delitos agrupados en cada categoría, quizá con un algoritmo que reconozca palabras similares y por tanto delitos más simialres en una misma clase.\n",
        "\n",
        "\n",
        "\n",
        "\n",
        "\n",
        "\n",
        "\n",
        "\n",
        "\n",
        "\n"
      ]
    }
  ]
}