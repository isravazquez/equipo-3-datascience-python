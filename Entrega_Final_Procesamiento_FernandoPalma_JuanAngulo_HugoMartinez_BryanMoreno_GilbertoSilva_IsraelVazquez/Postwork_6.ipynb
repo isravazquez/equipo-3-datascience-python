{
  "nbformat": 4,
  "nbformat_minor": 0,
  "metadata": {
    "kernelspec": {
      "display_name": "Python (data_science)",
      "language": "python",
      "name": "data_science"
    },
    "language_info": {
      "codemirror_mode": {
        "name": "ipython",
        "version": 3
      },
      "file_extension": ".py",
      "mimetype": "text/x-python",
      "name": "python",
      "nbconvert_exporter": "python",
      "pygments_lexer": "ipython3",
      "version": "3.8.1"
    },
    "colab": {
      "name": "Postwork 6.ipynb",
      "provenance": [],
      "collapsed_sections": []
    }
  },
  "cells": [
    {
      "cell_type": "markdown",
      "metadata": {
        "id": "NBWUFYpbxFUQ"
      },
      "source": [
        "# Postwork 6: Automatización y APIs\n",
        "\n",
        "*Para este postwork utilizamos información que no está relacionada con el dataset que originalmente se está trabajando*\n",
        "\n",
        "Para realizar peticiones HTTP, se utiliza el paquete requests de Python."
      ]
    },
    {
      "cell_type": "code",
      "metadata": {
        "id": "IJUk6hvyxFUT"
      },
      "source": [
        "# !pip install requests\n",
        "import requests"
      ],
      "execution_count": 1,
      "outputs": []
    },
    {
      "cell_type": "markdown",
      "metadata": {
        "id": "cx4_6GUkxFUU"
      },
      "source": [
        "Las peticiones se realizarán a la API de la USGS _(U.S. Geological Survey)_ para obtener información sobre terremotos. La documentación se encuentra en: https://earthquake.usgs.gov/fdsnws/event/1/"
      ]
    },
    {
      "cell_type": "markdown",
      "metadata": {
        "id": "QQBIcKSdxFUV"
      },
      "source": [
        "El end-point a utilizar es"
      ]
    },
    {
      "cell_type": "code",
      "metadata": {
        "id": "bL75EHZvxFUV"
      },
      "source": [
        "endpoint = 'https://earthquake.usgs.gov/fdsnws/event/1/query'"
      ],
      "execution_count": 2,
      "outputs": []
    },
    {
      "cell_type": "markdown",
      "metadata": {
        "id": "xQg2pjLQxFUW"
      },
      "source": [
        "Los parámetros que se utilizarán en esta petición son\n",
        "\n",
        "\n",
        "*   format: Formato de los datos de salida.\n",
        "*   starttime: Fecha de inicio de incidentes\n",
        "*   endtime: Fecha de fin de incidentes\n",
        "*   minlatitude: Latitud mínima en una geometría (región delimitada) rectangular\n",
        "*   minlongitude: Longitud mínima en una geometría (región delimitada) rectangular\n",
        "*   maxlatitude: Latitud máxima en una geometría (región delimitada) rectangular\n",
        "*   maxlongitude: Longitud máxima en una geometría (región delimitada) rectangular\n",
        "\n",
        "Deseamos obtener los datos de terremotos ocurridos entre el 01/jul/2021 y el 01/ago/2021, en México (aproximadamente entre latitudes 13.607153 a 32.534628 y longitudes -117.124463 a -85.839584) y en formato GeoJSON, el cual es un caso especial de JSON que almacena información geológica.\n",
        "\n",
        "Por tanto, el objeto de parámetros queda como"
      ]
    },
    {
      "cell_type": "code",
      "metadata": {
        "id": "TMS5yTHN3Dzw"
      },
      "source": [
        "payload = {'format': 'geojson',\n",
        "           'starttime': '2021-07-01',\n",
        "           'endtime': '2021-08-01',\n",
        "           'minlatitude': 13.607153,\n",
        "           'minlongitude': -117.124463,\n",
        "           'maxlatitude': 32.534628,\n",
        "           'maxlongitude': -85.839584}"
      ],
      "execution_count": 3,
      "outputs": []
    },
    {
      "cell_type": "markdown",
      "metadata": {
        "id": "Y7OzMbkoAWbJ"
      },
      "source": [
        "Se realiza la petición GET"
      ]
    },
    {
      "cell_type": "code",
      "metadata": {
        "id": "Qv_d4fHTxFUX",
        "colab": {
          "base_uri": "https://localhost:8080/"
        },
        "outputId": "0881774a-0b16-43be-9a93-cdffd8a0b3e7"
      },
      "source": [
        "r = requests.get(endpoint, params = payload)\n",
        "r.status_code"
      ],
      "execution_count": 4,
      "outputs": [
        {
          "output_type": "execute_result",
          "data": {
            "text/plain": [
              "200"
            ]
          },
          "metadata": {
            "tags": []
          },
          "execution_count": 4
        }
      ]
    },
    {
      "cell_type": "markdown",
      "metadata": {
        "id": "wha6kJJQxFUZ"
      },
      "source": [
        "Se limpiarán los datos a continuación"
      ]
    },
    {
      "cell_type": "code",
      "metadata": {
        "id": "5DCNhAeDxFUa"
      },
      "source": [
        "json = r.json()"
      ],
      "execution_count": 5,
      "outputs": []
    },
    {
      "cell_type": "markdown",
      "metadata": {
        "id": "I0b-OL4zXe74"
      },
      "source": [
        "Deseamos ver las llaves del objeto"
      ]
    },
    {
      "cell_type": "code",
      "metadata": {
        "id": "sVvbD3FFxFUa",
        "colab": {
          "base_uri": "https://localhost:8080/"
        },
        "outputId": "6e8cceb3-d889-41dc-d7ce-b16565cf8909"
      },
      "source": [
        "json.keys()"
      ],
      "execution_count": 6,
      "outputs": [
        {
          "output_type": "execute_result",
          "data": {
            "text/plain": [
              "dict_keys(['type', 'metadata', 'features', 'bbox'])"
            ]
          },
          "metadata": {
            "tags": []
          },
          "execution_count": 6
        }
      ]
    },
    {
      "cell_type": "markdown",
      "metadata": {
        "id": "Lz0lfPnTXjdt"
      },
      "source": [
        "Interesa solo el arreglo **features** pues tiene los datos de los terremotos."
      ]
    },
    {
      "cell_type": "code",
      "metadata": {
        "id": "UcDvQ_odxFUa"
      },
      "source": [
        "data = json['features']"
      ],
      "execution_count": 7,
      "outputs": []
    },
    {
      "cell_type": "markdown",
      "metadata": {
        "id": "3aeQeBG6so4i"
      },
      "source": [
        "Este es un ejemplo de los datos que contiene cada elemento en el arreglo"
      ]
    },
    {
      "cell_type": "code",
      "metadata": {
        "colab": {
          "base_uri": "https://localhost:8080/"
        },
        "id": "jBFk1OlSlmdC",
        "outputId": "a006ff4f-9403-48d0-bbe4-62e0278750e2"
      },
      "source": [
        "data[0]"
      ],
      "execution_count": 8,
      "outputs": [
        {
          "output_type": "execute_result",
          "data": {
            "text/plain": [
              "{'geometry': {'coordinates': [-104.4992078, 31.60810727, 8.522412109],\n",
              "  'type': 'Point'},\n",
              " 'id': 'tx2021oxhx',\n",
              " 'properties': {'alert': None,\n",
              "  'cdi': None,\n",
              "  'code': '2021oxhx',\n",
              "  'detail': 'https://earthquake.usgs.gov/fdsnws/event/1/query?eventid=tx2021oxhx&format=geojson',\n",
              "  'dmin': 0.06061087924,\n",
              "  'felt': None,\n",
              "  'gap': 74,\n",
              "  'ids': ',tx2021oxhx,',\n",
              "  'mag': 1.8,\n",
              "  'magType': 'ml',\n",
              "  'mmi': None,\n",
              "  'net': 'tx',\n",
              "  'nst': 15,\n",
              "  'place': '63 km S of Whites City, New Mexico',\n",
              "  'rms': 0.3,\n",
              "  'sig': 50,\n",
              "  'sources': ',tx,',\n",
              "  'status': 'reviewed',\n",
              "  'time': 1627774643035,\n",
              "  'title': 'M 1.8 - 63 km S of Whites City, New Mexico',\n",
              "  'tsunami': 0,\n",
              "  'type': 'earthquake',\n",
              "  'types': ',origin,phase-data,',\n",
              "  'tz': None,\n",
              "  'updated': 1628020993172,\n",
              "  'url': 'https://earthquake.usgs.gov/earthquakes/eventpage/tx2021oxhx'},\n",
              " 'type': 'Feature'}"
            ]
          },
          "metadata": {
            "tags": []
          },
          "execution_count": 8
        }
      ]
    },
    {
      "cell_type": "markdown",
      "metadata": {
        "id": "tIkhxQxqstaR"
      },
      "source": [
        "Nos interesará cambiar la estructura de este GeoJSON para después pasarlo a un dataframe, además de solo conservar cierta información relevante"
      ]
    },
    {
      "cell_type": "code",
      "metadata": {
        "colab": {
          "base_uri": "https://localhost:8080/"
        },
        "id": "gt9BVCtccqEj",
        "outputId": "dc172de2-d4e5-48d5-a758-717dfd0a2a10"
      },
      "source": [
        "earthquakes = []\n",
        "\n",
        "for feature in data:\n",
        "  newEarthquakeElem = {\n",
        "    'id': feature['id'],\n",
        "    'latitud': feature['geometry']['coordinates'][0],\n",
        "    'longitud': feature['geometry']['coordinates'][1],\n",
        "    'url': feature['properties']['url'],\n",
        "    'lugar': feature['properties']['place'],\n",
        "    'tipo': feature['properties']['type'],\n",
        "    'sensacion': feature['properties']['felt'],\n",
        "    'titulo': feature['properties']['title'],\n",
        "    'tsunami': feature['properties']['tsunami'],\n",
        "  }\n",
        "  earthquakes.append(newEarthquakeElem)\n",
        "\n",
        "print(earthquakes[0])\n",
        "print(earthquakes[1])\n",
        "print(earthquakes[2])"
      ],
      "execution_count": 9,
      "outputs": [
        {
          "output_type": "stream",
          "text": [
            "{'id': 'tx2021oxhx', 'latitud': -104.4992078, 'longitud': 31.60810727, 'url': 'https://earthquake.usgs.gov/earthquakes/eventpage/tx2021oxhx', 'lugar': '63 km S of Whites City, New Mexico', 'tipo': 'earthquake', 'sensacion': None, 'titulo': 'M 1.8 - 63 km S of Whites City, New Mexico', 'tsunami': 0}\n",
            "{'id': 'tx2021oxhw', 'latitud': -103.5225715, 'longitud': 30.95981644, 'url': 'https://earthquake.usgs.gov/earthquakes/eventpage/tx2021oxhw', 'lugar': '21 km E of Balmorhea, Texas', 'tipo': 'earthquake', 'sensacion': None, 'titulo': 'M 1.6 - 21 km E of Balmorhea, Texas', 'tsunami': 0}\n",
            "{'id': 'tx2021oxhj', 'latitud': -104.2584762, 'longitud': 31.60802572, 'url': 'https://earthquake.usgs.gov/earthquakes/eventpage/tx2021oxhj', 'lugar': '54 km NW of Toyah, Texas', 'tipo': 'earthquake', 'sensacion': None, 'titulo': 'M 2.8 - 54 km NW of Toyah, Texas', 'tsunami': 0}\n"
          ],
          "name": "stdout"
        }
      ]
    },
    {
      "cell_type": "markdown",
      "metadata": {
        "id": "UwseHhjFtzJ9"
      },
      "source": [
        "A continuación, se pasará la información a un dataframe utilizando Pandas"
      ]
    },
    {
      "cell_type": "code",
      "metadata": {
        "id": "vCEGaIWHcZYt"
      },
      "source": [
        "import pandas as pd"
      ],
      "execution_count": 10,
      "outputs": []
    },
    {
      "cell_type": "code",
      "metadata": {
        "id": "0CzfCUeTxFUc",
        "colab": {
          "base_uri": "https://localhost:8080/",
          "height": 309
        },
        "outputId": "dc30133a-6bf1-4e20-82be-38d6558b2a91"
      },
      "source": [
        "df = pd.DataFrame(earthquakes)\n",
        "\n",
        "df.head()"
      ],
      "execution_count": 11,
      "outputs": [
        {
          "output_type": "execute_result",
          "data": {
            "text/html": [
              "<div>\n",
              "<style scoped>\n",
              "    .dataframe tbody tr th:only-of-type {\n",
              "        vertical-align: middle;\n",
              "    }\n",
              "\n",
              "    .dataframe tbody tr th {\n",
              "        vertical-align: top;\n",
              "    }\n",
              "\n",
              "    .dataframe thead th {\n",
              "        text-align: right;\n",
              "    }\n",
              "</style>\n",
              "<table border=\"1\" class=\"dataframe\">\n",
              "  <thead>\n",
              "    <tr style=\"text-align: right;\">\n",
              "      <th></th>\n",
              "      <th>id</th>\n",
              "      <th>latitud</th>\n",
              "      <th>longitud</th>\n",
              "      <th>url</th>\n",
              "      <th>lugar</th>\n",
              "      <th>tipo</th>\n",
              "      <th>sensacion</th>\n",
              "      <th>titulo</th>\n",
              "      <th>tsunami</th>\n",
              "    </tr>\n",
              "  </thead>\n",
              "  <tbody>\n",
              "    <tr>\n",
              "      <th>0</th>\n",
              "      <td>tx2021oxhx</td>\n",
              "      <td>-104.499208</td>\n",
              "      <td>31.608107</td>\n",
              "      <td>https://earthquake.usgs.gov/earthquakes/eventp...</td>\n",
              "      <td>63 km S of Whites City, New Mexico</td>\n",
              "      <td>earthquake</td>\n",
              "      <td>NaN</td>\n",
              "      <td>M 1.8 - 63 km S of Whites City, New Mexico</td>\n",
              "      <td>0</td>\n",
              "    </tr>\n",
              "    <tr>\n",
              "      <th>1</th>\n",
              "      <td>tx2021oxhw</td>\n",
              "      <td>-103.522571</td>\n",
              "      <td>30.959816</td>\n",
              "      <td>https://earthquake.usgs.gov/earthquakes/eventp...</td>\n",
              "      <td>21 km E of Balmorhea, Texas</td>\n",
              "      <td>earthquake</td>\n",
              "      <td>NaN</td>\n",
              "      <td>M 1.6 - 21 km E of Balmorhea, Texas</td>\n",
              "      <td>0</td>\n",
              "    </tr>\n",
              "    <tr>\n",
              "      <th>2</th>\n",
              "      <td>tx2021oxhj</td>\n",
              "      <td>-104.258476</td>\n",
              "      <td>31.608026</td>\n",
              "      <td>https://earthquake.usgs.gov/earthquakes/eventp...</td>\n",
              "      <td>54 km NW of Toyah, Texas</td>\n",
              "      <td>earthquake</td>\n",
              "      <td>NaN</td>\n",
              "      <td>M 2.8 - 54 km NW of Toyah, Texas</td>\n",
              "      <td>0</td>\n",
              "    </tr>\n",
              "    <tr>\n",
              "      <th>3</th>\n",
              "      <td>tx2021oxgn</td>\n",
              "      <td>-103.252434</td>\n",
              "      <td>31.148578</td>\n",
              "      <td>https://earthquake.usgs.gov/earthquakes/eventp...</td>\n",
              "      <td>20 km WSW of Coyanosa, Texas</td>\n",
              "      <td>earthquake</td>\n",
              "      <td>NaN</td>\n",
              "      <td>M 3.1 - 20 km WSW of Coyanosa, Texas</td>\n",
              "      <td>0</td>\n",
              "    </tr>\n",
              "    <tr>\n",
              "      <th>4</th>\n",
              "      <td>ci39760183</td>\n",
              "      <td>-116.057500</td>\n",
              "      <td>32.404833</td>\n",
              "      <td>https://earthquake.usgs.gov/earthquakes/eventp...</td>\n",
              "      <td>37km S of Ocotillo, CA</td>\n",
              "      <td>earthquake</td>\n",
              "      <td>NaN</td>\n",
              "      <td>M 1.5 - 37km S of Ocotillo, CA</td>\n",
              "      <td>0</td>\n",
              "    </tr>\n",
              "  </tbody>\n",
              "</table>\n",
              "</div>"
            ],
            "text/plain": [
              "           id     latitud  ...                                      titulo tsunami\n",
              "0  tx2021oxhx -104.499208  ...  M 1.8 - 63 km S of Whites City, New Mexico       0\n",
              "1  tx2021oxhw -103.522571  ...         M 1.6 - 21 km E of Balmorhea, Texas       0\n",
              "2  tx2021oxhj -104.258476  ...            M 2.8 - 54 km NW of Toyah, Texas       0\n",
              "3  tx2021oxgn -103.252434  ...        M 3.1 - 20 km WSW of Coyanosa, Texas       0\n",
              "4  ci39760183 -116.057500  ...              M 1.5 - 37km S of Ocotillo, CA       0\n",
              "\n",
              "[5 rows x 9 columns]"
            ]
          },
          "metadata": {
            "tags": []
          },
          "execution_count": 11
        }
      ]
    },
    {
      "cell_type": "markdown",
      "metadata": {
        "id": "b9vcgw8TuZsw"
      },
      "source": [
        "Y listo. Ahora que tenemos la información en un dataframe, podemos utilizar Pandas para tratar mejor los datos."
      ]
    }
  ]
}
